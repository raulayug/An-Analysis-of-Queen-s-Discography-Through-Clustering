{
 "cells": [
  {
   "cell_type": "code",
   "execution_count": 1,
   "id": "d285209e",
   "metadata": {},
   "outputs": [],
   "source": [
    "from sklearn import datasets,metrics\n",
    "import matplotlib.pyplot as plt\n",
    "from sklearn.cluster import KMeans\n",
    "import numpy as np\n",
    "from sklearn.metrics import silhouette_score,pairwise_distances\n",
    "import pandas as pd\n",
    "\n",
    "from sklearn.preprocessing import MinMaxScaler\n",
    "from sklearn.preprocessing import StandardScaler\n",
    "from sklearn.preprocessing import RobustScaler"
   ]
  },
  {
   "cell_type": "code",
   "execution_count": 2,
   "id": "97e0bc60",
   "metadata": {},
   "outputs": [],
   "source": [
    "# Load dataset\n",
    "\n",
    "queen_dataset_full = pd.read_csv(\"Queen - FeatureValues (Pruned).csv\")"
   ]
  },
  {
   "cell_type": "code",
   "execution_count": 3,
   "id": "d66d255c",
   "metadata": {},
   "outputs": [
    {
     "data": {
      "text/html": [
       "<div>\n",
       "<style scoped>\n",
       "    .dataframe tbody tr th:only-of-type {\n",
       "        vertical-align: middle;\n",
       "    }\n",
       "\n",
       "    .dataframe tbody tr th {\n",
       "        vertical-align: top;\n",
       "    }\n",
       "\n",
       "    .dataframe thead th {\n",
       "        text-align: right;\n",
       "    }\n",
       "</style>\n",
       "<table border=\"1\" class=\"dataframe\">\n",
       "  <thead>\n",
       "    <tr style=\"text-align: right;\">\n",
       "      <th></th>\n",
       "      <th>Unnamed: 0</th>\n",
       "      <th>Number_of_Pitches</th>\n",
       "      <th>Number_of_Pitch_Classes</th>\n",
       "      <th>Number_of_Common_Pitches</th>\n",
       "      <th>Number_of_Common_Pitch_Classes</th>\n",
       "      <th>Range</th>\n",
       "      <th>Importance_of_Bass_Register</th>\n",
       "      <th>Importance_of_Middle_Register</th>\n",
       "      <th>Importance_of_High_Register</th>\n",
       "      <th>Dominant_Spread</th>\n",
       "      <th>...</th>\n",
       "      <th>Parallel_Motion</th>\n",
       "      <th>Similar_Motion</th>\n",
       "      <th>Contrary_Motion</th>\n",
       "      <th>Oblique_Motion</th>\n",
       "      <th>Parallel_Fifths</th>\n",
       "      <th>Parallel_Octaves</th>\n",
       "      <th>Dynamic_Range</th>\n",
       "      <th>Variation_of_Dynamics</th>\n",
       "      <th>Variation_of_Dynamics_In_Each_Voice</th>\n",
       "      <th>Average_Note_to_Note_Change_in_Dynamics</th>\n",
       "    </tr>\n",
       "  </thead>\n",
       "  <tbody>\n",
       "    <tr>\n",
       "      <th>0</th>\n",
       "      <td>C:\\Users\\Earl Felizardo\\Documents\\Thesis Files...</td>\n",
       "      <td>44.0</td>\n",
       "      <td>12.0</td>\n",
       "      <td>1.0</td>\n",
       "      <td>1.0</td>\n",
       "      <td>55.0</td>\n",
       "      <td>0.50510</td>\n",
       "      <td>0.3768</td>\n",
       "      <td>0.1181</td>\n",
       "      <td>5.0</td>\n",
       "      <td>...</td>\n",
       "      <td>0.02799</td>\n",
       "      <td>0.2656</td>\n",
       "      <td>0.01266</td>\n",
       "      <td>0.6938</td>\n",
       "      <td>0.005952</td>\n",
       "      <td>0.008739</td>\n",
       "      <td>104.0</td>\n",
       "      <td>23.14</td>\n",
       "      <td>10.800</td>\n",
       "      <td>18.780</td>\n",
       "    </tr>\n",
       "    <tr>\n",
       "      <th>1</th>\n",
       "      <td>C:\\Users\\Earl Felizardo\\Documents\\Thesis Files...</td>\n",
       "      <td>72.0</td>\n",
       "      <td>12.0</td>\n",
       "      <td>0.0</td>\n",
       "      <td>0.0</td>\n",
       "      <td>74.0</td>\n",
       "      <td>0.36430</td>\n",
       "      <td>0.4403</td>\n",
       "      <td>0.1954</td>\n",
       "      <td>7.0</td>\n",
       "      <td>...</td>\n",
       "      <td>0.08032</td>\n",
       "      <td>0.2305</td>\n",
       "      <td>0.06892</td>\n",
       "      <td>0.6202</td>\n",
       "      <td>0.003327</td>\n",
       "      <td>0.024240</td>\n",
       "      <td>97.0</td>\n",
       "      <td>18.18</td>\n",
       "      <td>3.787</td>\n",
       "      <td>4.004</td>\n",
       "    </tr>\n",
       "    <tr>\n",
       "      <th>2</th>\n",
       "      <td>C:\\Users\\Earl Felizardo\\Documents\\Thesis Files...</td>\n",
       "      <td>63.0</td>\n",
       "      <td>12.0</td>\n",
       "      <td>2.0</td>\n",
       "      <td>1.0</td>\n",
       "      <td>75.0</td>\n",
       "      <td>0.37830</td>\n",
       "      <td>0.4297</td>\n",
       "      <td>0.1920</td>\n",
       "      <td>5.0</td>\n",
       "      <td>...</td>\n",
       "      <td>0.06540</td>\n",
       "      <td>0.2662</td>\n",
       "      <td>0.04382</td>\n",
       "      <td>0.6246</td>\n",
       "      <td>0.000654</td>\n",
       "      <td>0.031390</td>\n",
       "      <td>106.0</td>\n",
       "      <td>16.69</td>\n",
       "      <td>9.189</td>\n",
       "      <td>12.230</td>\n",
       "    </tr>\n",
       "    <tr>\n",
       "      <th>3</th>\n",
       "      <td>C:\\Users\\Earl Felizardo\\Documents\\Thesis Files...</td>\n",
       "      <td>64.0</td>\n",
       "      <td>12.0</td>\n",
       "      <td>0.0</td>\n",
       "      <td>0.0</td>\n",
       "      <td>69.0</td>\n",
       "      <td>0.32580</td>\n",
       "      <td>0.5510</td>\n",
       "      <td>0.1232</td>\n",
       "      <td>2.0</td>\n",
       "      <td>...</td>\n",
       "      <td>0.08929</td>\n",
       "      <td>0.2640</td>\n",
       "      <td>0.09276</td>\n",
       "      <td>0.5540</td>\n",
       "      <td>0.005635</td>\n",
       "      <td>0.038580</td>\n",
       "      <td>89.0</td>\n",
       "      <td>16.17</td>\n",
       "      <td>6.202</td>\n",
       "      <td>2.933</td>\n",
       "    </tr>\n",
       "    <tr>\n",
       "      <th>4</th>\n",
       "      <td>C:\\Users\\Earl Felizardo\\Documents\\Thesis Files...</td>\n",
       "      <td>70.0</td>\n",
       "      <td>12.0</td>\n",
       "      <td>3.0</td>\n",
       "      <td>0.0</td>\n",
       "      <td>108.0</td>\n",
       "      <td>0.08416</td>\n",
       "      <td>0.2683</td>\n",
       "      <td>0.6475</td>\n",
       "      <td>7.0</td>\n",
       "      <td>...</td>\n",
       "      <td>0.09331</td>\n",
       "      <td>0.1897</td>\n",
       "      <td>0.04899</td>\n",
       "      <td>0.6680</td>\n",
       "      <td>0.005443</td>\n",
       "      <td>0.023330</td>\n",
       "      <td>85.0</td>\n",
       "      <td>15.02</td>\n",
       "      <td>4.429</td>\n",
       "      <td>1.990</td>\n",
       "    </tr>\n",
       "  </tbody>\n",
       "</table>\n",
       "<p>5 rows × 227 columns</p>\n",
       "</div>"
      ],
      "text/plain": [
       "                                          Unnamed: 0  Number_of_Pitches  \\\n",
       "0  C:\\Users\\Earl Felizardo\\Documents\\Thesis Files...               44.0   \n",
       "1  C:\\Users\\Earl Felizardo\\Documents\\Thesis Files...               72.0   \n",
       "2  C:\\Users\\Earl Felizardo\\Documents\\Thesis Files...               63.0   \n",
       "3  C:\\Users\\Earl Felizardo\\Documents\\Thesis Files...               64.0   \n",
       "4  C:\\Users\\Earl Felizardo\\Documents\\Thesis Files...               70.0   \n",
       "\n",
       "   Number_of_Pitch_Classes  Number_of_Common_Pitches  \\\n",
       "0                     12.0                       1.0   \n",
       "1                     12.0                       0.0   \n",
       "2                     12.0                       2.0   \n",
       "3                     12.0                       0.0   \n",
       "4                     12.0                       3.0   \n",
       "\n",
       "   Number_of_Common_Pitch_Classes  Range  Importance_of_Bass_Register  \\\n",
       "0                             1.0   55.0                      0.50510   \n",
       "1                             0.0   74.0                      0.36430   \n",
       "2                             1.0   75.0                      0.37830   \n",
       "3                             0.0   69.0                      0.32580   \n",
       "4                             0.0  108.0                      0.08416   \n",
       "\n",
       "   Importance_of_Middle_Register  Importance_of_High_Register  \\\n",
       "0                         0.3768                       0.1181   \n",
       "1                         0.4403                       0.1954   \n",
       "2                         0.4297                       0.1920   \n",
       "3                         0.5510                       0.1232   \n",
       "4                         0.2683                       0.6475   \n",
       "\n",
       "   Dominant_Spread  ...  Parallel_Motion  Similar_Motion  Contrary_Motion  \\\n",
       "0              5.0  ...          0.02799          0.2656          0.01266   \n",
       "1              7.0  ...          0.08032          0.2305          0.06892   \n",
       "2              5.0  ...          0.06540          0.2662          0.04382   \n",
       "3              2.0  ...          0.08929          0.2640          0.09276   \n",
       "4              7.0  ...          0.09331          0.1897          0.04899   \n",
       "\n",
       "   Oblique_Motion  Parallel_Fifths  Parallel_Octaves  Dynamic_Range  \\\n",
       "0          0.6938         0.005952          0.008739          104.0   \n",
       "1          0.6202         0.003327          0.024240           97.0   \n",
       "2          0.6246         0.000654          0.031390          106.0   \n",
       "3          0.5540         0.005635          0.038580           89.0   \n",
       "4          0.6680         0.005443          0.023330           85.0   \n",
       "\n",
       "   Variation_of_Dynamics  Variation_of_Dynamics_In_Each_Voice  \\\n",
       "0                  23.14                               10.800   \n",
       "1                  18.18                                3.787   \n",
       "2                  16.69                                9.189   \n",
       "3                  16.17                                6.202   \n",
       "4                  15.02                                4.429   \n",
       "\n",
       "   Average_Note_to_Note_Change_in_Dynamics  \n",
       "0                                   18.780  \n",
       "1                                    4.004  \n",
       "2                                   12.230  \n",
       "3                                    2.933  \n",
       "4                                    1.990  \n",
       "\n",
       "[5 rows x 227 columns]"
      ]
     },
     "execution_count": 3,
     "metadata": {},
     "output_type": "execute_result"
    }
   ],
   "source": [
    "# Visualize full Queen dataset\n",
    "\n",
    "queen_dataset_full.head()"
   ]
  },
  {
   "cell_type": "code",
   "execution_count": 4,
   "id": "d5c053b8",
   "metadata": {},
   "outputs": [],
   "source": [
    "# Remove label column\n",
    "\n",
    "queen_dataset_full_nolabel = queen_dataset_full.iloc[:, 1:]\n",
    "dataset = queen_dataset_full_nolabel"
   ]
  },
  {
   "cell_type": "code",
   "execution_count": 5,
   "id": "3a0ab4d6",
   "metadata": {},
   "outputs": [],
   "source": [
    "# NORMALIZING THE DATASET"
   ]
  },
  {
   "cell_type": "code",
   "execution_count": 6,
   "id": "12a13711",
   "metadata": {},
   "outputs": [],
   "source": [
    "# Robust Scaling\n",
    "\n",
    "robust_scaler = RobustScaler()\n",
    "dataset_normalized = robust_scaler.fit_transform(dataset)\n",
    "d1 = pd.DataFrame(dataset_normalized, columns=dataset.columns)"
   ]
  },
  {
   "cell_type": "code",
   "execution_count": 7,
   "id": "5b91554d",
   "metadata": {},
   "outputs": [],
   "source": [
    "# FEATURE SELECTION"
   ]
  },
  {
   "cell_type": "code",
   "execution_count": 8,
   "id": "d8ece5dc",
   "metadata": {},
   "outputs": [],
   "source": [
    "# Full Features (FS1)\n",
    "\n",
    "fs1 = pd.DataFrame(dataset_normalized, columns=dataset.columns)\n",
    "\n",
    "fs1_col1 = \"Number_of_Pitches\"\n",
    "fs1_col2 = \"Number_of_Pitch_Classes\"\n",
    "fs1_col3 = \"Number_of_Common_Pitches\"\n",
    "fs1_col4 = \"Number_of_Common_Pitch_Classes\"\n",
    "fs1_col5 = \"Range\"\n",
    "fs1_col6 = \"Importance_of_Bass_Register\"\n",
    "fs1_col7 = \"Importance_of_Middle_Register\"\n",
    "fs1_col8 = \"Importance_of_High_Register\"\n",
    "fs1_col9 = \"Dominant_Spread\"\n",
    "fs1_col10 = \"Strong_Tonal_Centres\"\n",
    "fs1_col11 = \"Mean_Pitch\"\n",
    "fs1_col12 = \"Mean_Pitch_Class\"\n",
    "fs1_col13 = \"Most_Common_Pitch\"\n",
    "fs1_col14 = \"Most_Common_Pitch_Class\"\n",
    "fs1_col15 = \"Prevalence_of_Most_Common_Pitch\"\n",
    "fs1_col16 = \"Prevalence_of_Most_Common_Pitch_Class\"\n",
    "fs1_col17 = \"Relative_Prevalence_of_Top_Pitches\"\n",
    "fs1_col18 = \"Relative_Prevalence_of_Top_Pitch_Classes\"\n",
    "fs1_col19 = \"Interval_Between_Most_Prevalent_Pitches\"\n",
    "fs1_col20 = \"Interval_Between_Most_Prevalent_Pitch_Classes\"\n",
    "fs1_col21 = \"Pitch_Variability\"\n",
    "fs1_col22 = \"Pitch_Class_Variability\"\n",
    "fs1_col23 = \"Pitch_Class_Variability_After_Folding\"\n",
    "fs1_col24 = \"Pitch_Skewness\"\n",
    "fs1_col25 = \"Pitch_Class_Skewness\"\n",
    "fs1_col26 = \"Pitch_Class_Skewness_After_Folding\"\n",
    "fs1_col27 = \"Pitch_Kurtosis\"\n",
    "fs1_col28 = \"Pitch_Class_Kurtosis\"\n",
    "fs1_col29 = \"Pitch_Class_Kurtosis_After_Folding\"\n",
    "fs1_col30 = \"Major_or_Minor\"\n",
    "fs1_col31 = \"First_Pitch\"\n",
    "fs1_col32 = \"First_Pitch_Class\"\n",
    "fs1_col33 = \"Last_Pitch\"\n",
    "fs1_col34 = \"Last_Pitch_Class\"\n",
    "fs1_col35 = \"Glissando_Prevalence\"\n",
    "fs1_col36 = \"Average_Range_of_Glissandos\"\n",
    "fs1_col37 = \"Vibrato_Prevalence\"\n",
    "fs1_col38 = \"Microtone_Prevalence\"\n",
    "fs1_col39 = \"Most_Common_Melodic_Interval\"\n",
    "fs1_col40 = \"Mean_Melodic_Interval\"\n",
    "fs1_col41 = \"Number_of_Common_Melodic_Intervals\"\n",
    "fs1_col42 = \"Distance_Between_Most_Prevalent_Melodic_Intervals\"\n",
    "fs1_col43 = \"Prevalence_of_Most_Common_Melodic_Interval\"\n",
    "fs1_col44 = \"Relative_Prevalence_of_Most_Common_Melodic_Intervals\"\n",
    "fs1_col45 = \"Amount_of_Arpeggiation\"\n",
    "fs1_col46 = \"Repeated_Notes\"\n",
    "fs1_col47 = \"Chromatic_Motion\"\n",
    "fs1_col48 = \"Stepwise_Motion\"\n",
    "fs1_col49 = \"Melodic_Thirds\"\n",
    "fs1_col50 = \"Melodic_Perfect_Fourths\"\n",
    "fs1_col51 = \"Melodic_Tritones\"\n",
    "fs1_col52 = \"Melodic_Perfect_Fifths\"\n",
    "fs1_col53 = \"Melodic_Sixths\"\n",
    "fs1_col54 = \"Melodic_Sevenths\"\n",
    "fs1_col55 = \"Melodic_Octaves\"\n",
    "fs1_col56 = \"Melodic_Large_Intervals\"\n",
    "fs1_col57 = \"Minor_Major_Melodic_Third_Ratio\"\n",
    "fs1_col58 = \"Melodic_Embellishments\"\n",
    "fs1_col59 = \"Direction_of_Melodic_Motion\"\n",
    "fs1_col60 = \"Average_Length_of_Melodic_Arcs\"\n",
    "fs1_col61 = \"Average_Interval_Spanned_by_Melodic_Arcs\"\n",
    "fs1_col62 = \"Melodic_Pitch_Variety\"\n",
    "fs1_col63 = \"Average_Number_of_Simultaneous_Pitch_Classes\"\n",
    "fs1_col64 = \"Variability_of_Number_of_Simultaneous_Pitch_Classes\"\n",
    "fs1_col65 = \"Average_Number_of_Simultaneous_Pitches\"\n",
    "fs1_col66 = \"Variability_of_Number_of_Simultaneous_Pitches\"\n",
    "fs1_col67 = \"Most_Common_Vertical_Interval\"\n",
    "fs1_col68 = \"Second_Most_Common_Vertical_Interval\"\n",
    "fs1_col69 = \"Distance_Between_Two_Most_Common_Vertical_Intervals\"\n",
    "fs1_col70 = \"Prevalence_of_Most_Common_Vertical_Interval\"\n",
    "fs1_col71 = \"Prevalence_of_Second_Most_Common_Vertical_Interval\"\n",
    "fs1_col72 = \"Prevalence_Ratio_of_Two_Most_Common_Vertical_Intervals\"\n",
    "fs1_col73 = \"Vertical_Unisons\"\n",
    "fs1_col74 = \"Vertical_Minor_Seconds\"\n",
    "fs1_col75 = \"Vertical_Thirds\"\n",
    "fs1_col76 = \"Vertical_Tritones\"\n",
    "fs1_col77 = \"Vertical_Perfect_Fourths\"\n",
    "fs1_col78 = \"Vertical_Perfect_Fifths\"\n",
    "fs1_col79 = \"Vertical_Sixths\"\n",
    "fs1_col80 = \"Vertical_Sevenths\"\n",
    "fs1_col81 = \"Vertical_Octaves\"\n",
    "fs1_col82 = \"Perfect_Vertical_Intervals\"\n",
    "fs1_col83 = \"Vertical_Dissonance_Ratio\"\n",
    "fs1_col84 = \"Vertical_Minor_Third_Prevalence\"\n",
    "fs1_col85 = \"Vertical_Major_Third_Prevalence\"\n",
    "fs1_col86 = \"Chord_Duration\"\n",
    "fs1_col87 = \"Partial_Chords\"\n",
    "fs1_col88 = \"Standard_Triads\"\n",
    "fs1_col89 = \"Diminished_and_Augmented_Triads\"\n",
    "fs1_col90 = \"Dominant_Seventh_Chords\"\n",
    "fs1_col91 = \"Seventh_Chords\"\n",
    "fs1_col92 = \"Non-Standard_Chords\"\n",
    "fs1_col93 = \"Complex_Chords\"\n",
    "fs1_col94 = \"Minor_Major_Triad_Ratio\"\n",
    "fs1_col95 = \"Simple_Initial_Meter\"\n",
    "fs1_col96 = \"Compound_Initial_Meter\"\n",
    "fs1_col97 = \"Complex_Initial_Meter\"\n",
    "fs1_col98 = \"Duple_Initial_Meter\"\n",
    "fs1_col99 = \"Triple_Initial_Meter\"\n",
    "fs1_col100 = \"Quadruple_Initial_Meter\"\n",
    "fs1_col101 = \"Metrical_Diversity\"\n",
    "fs1_col102 = \"Total_Number_of_Notes\"\n",
    "fs1_col103 = \"Note_Density_per_Quarter_Note\"\n",
    "fs1_col104 = \"Note_Density_per_Quarter_Note_per_Voice\"\n",
    "fs1_col105 = \"Range_of_Rhythmic_Values\"\n",
    "fs1_col106 = \"Number_of_Different_Rhythmic_Values_Present\"\n",
    "fs1_col107 = \"Number_of_Common_Rhythmic_Values_Present\"\n",
    "fs1_col108 = \"Prevalence_of_Very_Short_Rhythmic_Values\"\n",
    "fs1_col109 = \"Prevalence_of_Short_Rhythmic_Values\"\n",
    "fs1_col110 = \"Prevalence_of_Medium_Rhythmic_Values\"\n",
    "fs1_col111 = \"Prevalence_of_Long_Rhythmic_Values\"\n",
    "fs1_col112 = \"Prevalence_of_Very_Long_Rhythmic_Values\"\n",
    "fs1_col113 = \"Prevalence_of_Dotted_Notes\"\n",
    "fs1_col114 = \"Shortest_Rhythmic_Value\"\n",
    "fs1_col115 = \"Longest_Rhythmic_Value\"\n",
    "fs1_col116 = \"Mean_Rhythmic_Value\"\n",
    "fs1_col117 = \"Most_Common_Rhythmic_Value\"\n",
    "fs1_col118 = \"Prevalence_of_Most_Common_Rhythmic_Value\"\n",
    "fs1_col119 = \"Relative_Prevalence_of_Most_Common_Rhythmic_Values\"\n",
    "fs1_col120 = \"Difference_Between_Most_Common_Rhythmic_Values\"\n",
    "fs1_col121 = \"Rhythmic_Value_Variability\"\n",
    "fs1_col122 = \"Rhythmic_Value_Skewness\"\n",
    "fs1_col123 = \"Rhythmic_Value_Kurtosis\"\n",
    "fs1_col124 = \"Mean_Rhythmic_Value_Run_Length\"\n",
    "fs1_col125 = \"Median_Rhythmic_Value_Run_Length\"\n",
    "fs1_col126 = \"Variability_in_Rhythmic_Value_Run_Lengths\"\n",
    "fs1_col127 = \"Mean_Rhythmic_Value_Offset\"\n",
    "fs1_col128 = \"Median_Rhythmic_Value_Offset\"\n",
    "fs1_col129 = \"Variability_of_Rhythmic_Value_Offsets\"\n",
    "fs1_col130 = \"Complete_Rests_Fraction\"\n",
    "fs1_col131 = \"Partial_Rests_Fraction\"\n",
    "fs1_col132 = \"Average_Rest_Fraction_Across_Voices\"\n",
    "fs1_col133 = \"Longest_Complete_Rest\"\n",
    "fs1_col134 = \"Longest_Partial_Rest\"\n",
    "fs1_col135 = \"Mean_Complete_Rest_Duration\"\n",
    "fs1_col136 = \"Mean_Partial_Rest_Duration\"\n",
    "fs1_col137 = \"Median_Complete_Rest_Duration\"\n",
    "fs1_col138 = \"Median_Partial_Rest_Duration\"\n",
    "fs1_col139 = \"Variability_of_Complete_Rest_Durations\"\n",
    "fs1_col140 = \"Variability_of_Partial_Rest_Durations\"\n",
    "fs1_col141 = \"Variability_Across_Voices_of_Combined_Rests\"\n",
    "fs1_col142 = \"Number_of_Strong_Rhythmic_Pulses_-_Tempo_Standardized\"\n",
    "fs1_col143 = \"Number_of_Moderate_Rhythmic_Pulses_-_Tempo_Standardized\"\n",
    "fs1_col144 = \"Number_of_Relatively_Strong_Rhythmic_Pulses_-_Tempo_Standardized\"\n",
    "fs1_col145 = \"Strongest_Rhythmic_Pulse_-_Tempo_Standardized\"\n",
    "fs1_col146 = \"Second_Strongest_Rhythmic_Pulse_-_Tempo_Standardized\"\n",
    "fs1_col147 = \"Harmonicity_of_Two_Strongest_Rhythmic_Pulses_-_Tempo_Standardized\"\n",
    "fs1_col148 = \"Strength_of_Strongest_Rhythmic_Pulse_-_Tempo_Standardized\"\n",
    "fs1_col149 = \"Strength_of_Second_Strongest_Rhythmic_Pulse_-_Tempo_Standardized\"\n",
    "fs1_col150 = \"Strength_Ratio_of_Two_Strongest_Rhythmic_Pulses_-_Tempo_Standardized\"\n",
    "fs1_col151 = \"Combined_Strength_of_Two_Strongest_Rhythmic_Pulses_-_Tempo_Standardized\"\n",
    "fs1_col152 = \"Rhythmic_Variability_-_Tempo_Standardized\"\n",
    "fs1_col153 = \"Rhythmic_Looseness_-_Tempo_Standardized\"\n",
    "fs1_col154 = \"Polyrhythms_-_Tempo_Standardized\"\n",
    "fs1_col155 = \"Initial_Tempo\"\n",
    "fs1_col156 = \"Mean_Tempo\"\n",
    "fs1_col157 = \"Tempo_Variability\"\n",
    "fs1_col158 = \"Duration_in_Seconds\"\n",
    "fs1_col159 = \"Note_Density\"\n",
    "fs1_col160 = \"Note_Density_Variability\"\n",
    "fs1_col161 = \"Average_Time_Between_Attacks\"\n",
    "fs1_col162 = \"Average_Time_Between_Attacks_for_Each_Voice\"\n",
    "fs1_col163 = \"Variability_of_Time_Between_Attacks\"\n",
    "fs1_col164 = \"Average_Variability_of_Time_Between_Attacks_for_Each_Voice\"\n",
    "fs1_col165 = \"Minimum_Note_Duration\"\n",
    "fs1_col166 = \"Maximum_Note_Duration\"\n",
    "fs1_col167 = \"Average_Note_Duration\"\n",
    "fs1_col168 = \"Variability_of_Note_Durations\"\n",
    "fs1_col169 = \"Amount_of_Staccato\"\n",
    "fs1_col170 = \"Number_of_Strong_Rhythmic_Pulses\"\n",
    "fs1_col171 = \"Number_of_Moderate_Rhythmic_Pulses\"\n",
    "fs1_col172 = \"Number_of_Relatively_Strong_Rhythmic_Pulses\"\n",
    "fs1_col173 = \"Strongest_Rhythmic_Pulse\"\n",
    "fs1_col174 = \"Second_Strongest_Rhythmic_Pulse\"\n",
    "fs1_col175 = \"Harmonicity_of_Two_Strongest_Rhythmic_Pulses\"\n",
    "fs1_col176 = \"Strength_of_Strongest_Rhythmic_Pulse\"\n",
    "fs1_col177 = \"Strength_of_Second_Strongest_Rhythmic_Pulse\"\n",
    "fs1_col178 = \"Strength_Ratio_of_Two_Strongest_Rhythmic_Pulses\"\n",
    "fs1_col179 = \"Combined_Strength_of_Two_Strongest_Rhythmic_Pulses\"\n",
    "fs1_col180 = \"Rhythmic_Variability\"\n",
    "fs1_col181 = \"Rhythmic_Looseness\"\n",
    "fs1_col182 = \"Polyrhythms\"\n",
    "fs1_col183 = \"Variability_of_Note_Prevalence_of_Pitched_Instruments\"\n",
    "fs1_col184 = \"Variability_of_Note_Prevalence_of_Unpitched_Instruments\"\n",
    "fs1_col185 = \"Number_of_Pitched_Instruments\"\n",
    "fs1_col186 = \"Number_of_Unpitched_Instruments\"\n",
    "fs1_col187 = \"Unpitched_Percussion_Instrument_Prevalence\"\n",
    "fs1_col188 = \"String_Keyboard_Prevalence\"\n",
    "fs1_col189 = \"Acoustic_Guitar_Prevalence\"\n",
    "fs1_col190 = \"Electric_Guitar_Prevalence\"\n",
    "fs1_col191 = \"Violin_Prevalence\"\n",
    "fs1_col192 = \"Saxophone_Prevalence\"\n",
    "fs1_col193 = \"Brass_Prevalence\"\n",
    "fs1_col194 = \"Woodwinds_Prevalence\"\n",
    "fs1_col195 = \"Orchestral_Strings_Prevalence\"\n",
    "fs1_col196 = \"String_Ensemble_Prevalence\"\n",
    "fs1_col197 = \"Electric_Instrument_Prevalence\"\n",
    "fs1_col198 = \"Maximum_Number_of_Independent_Voices\"\n",
    "fs1_col199 = \"Average_Number_of_Independent_Voices\"\n",
    "fs1_col200 = \"Variability_of_Number_of_Independent_Voices\"\n",
    "fs1_col201 = \"Voice_Equality_-_Number_of_Notes\"\n",
    "fs1_col202 = \"Voice_Equality_-_Note_Duration\"\n",
    "fs1_col203 = \"Voice_Equality_-_Dynamics\"\n",
    "fs1_col204 = \"Voice_Equality_-_Melodic_Leaps\"\n",
    "fs1_col205 = \"Voice_Equality_-_Range\"\n",
    "fs1_col206 = \"Importance_of_Loudest_Voice\"\n",
    "fs1_col207 = \"Relative_Range_of_Loudest_Voice\"\n",
    "fs1_col208 = \"Relative_Range_Isolation_of_Loudest_Voice\"\n",
    "fs1_col209 = \"Relative_Range_of_Highest_Line\"\n",
    "fs1_col210 = \"Relative_Note_Density_of_Highest_Line\"\n",
    "fs1_col211 = \"Relative_Note_Durations_of_Lowest_Line\"\n",
    "fs1_col212 = \"Relative_Size_of_Melodic_Intervals_in_Lowest_Line\"\n",
    "fs1_col213 = \"Voice_Overlap\"\n",
    "fs1_col214 = \"Voice_Separation\"\n",
    "fs1_col215 = \"Variability_of_Voice_Separation\"\n",
    "fs1_col216 = \"Parallel_Motion\"\n",
    "fs1_col217 = \"Similar_Motion\"\n",
    "fs1_col218 = \"Contrary_Motion\"\n",
    "fs1_col219 = \"Oblique_Motion\"\n",
    "fs1_col220 = \"Parallel_Fifths\"\n",
    "fs1_col221 = \"Parallel_Octaves\"\n",
    "fs1_col222 = \"Dynamic_Range\"\n",
    "fs1_col223 = \"Variation_of_Dynamics\"\n",
    "fs1_col224 = \"Variation_of_Dynamics_In_Each_Voice\"\n",
    "fs1_col225 = \"Average_Note_to_Note_Change_in_Dynamics\"\n",
    "\n",
    "fs1 = fs1[[fs1_col1, fs1_col2, fs1_col3, fs1_col4, fs1_col5, fs1_col6, fs1_col7, fs1_col8, fs1_col9, fs1_col10, fs1_col11, fs1_col12, fs1_col13, fs1_col14, fs1_col15, fs1_col16, fs1_col17, fs1_col18, fs1_col19, fs1_col20, fs1_col21, fs1_col22, fs1_col23, fs1_col24, fs1_col25, fs1_col26, fs1_col27, fs1_col28, fs1_col29, fs1_col30, fs1_col31, fs1_col32, fs1_col33, fs1_col34, fs1_col35, fs1_col36, fs1_col37, fs1_col38, fs1_col39, fs1_col40, fs1_col41, fs1_col42, fs1_col43, fs1_col44, fs1_col45, fs1_col46, fs1_col47, fs1_col48, fs1_col49, fs1_col50, fs1_col51, fs1_col52, fs1_col53, fs1_col54, fs1_col55, fs1_col56, fs1_col57, fs1_col58, fs1_col59, fs1_col60, fs1_col61, fs1_col62, fs1_col63, fs1_col64, fs1_col65, fs1_col66, fs1_col67, fs1_col68, fs1_col69, fs1_col70, fs1_col71, fs1_col72, fs1_col73, fs1_col74, fs1_col75, fs1_col76, fs1_col77, fs1_col78, fs1_col79, fs1_col80, fs1_col81, fs1_col82, fs1_col83, fs1_col84, fs1_col85, fs1_col86, fs1_col87, fs1_col88, fs1_col89, fs1_col90, fs1_col91, fs1_col92, fs1_col93, fs1_col94, fs1_col95, fs1_col96, fs1_col97, fs1_col98, fs1_col99, fs1_col100, fs1_col101, fs1_col102, fs1_col103, fs1_col104, fs1_col105, fs1_col106, fs1_col107, fs1_col108, fs1_col109, fs1_col110, fs1_col111, fs1_col112, fs1_col113, fs1_col114, fs1_col115, fs1_col116, fs1_col117, fs1_col118, fs1_col119, fs1_col120, fs1_col121, fs1_col122, fs1_col123, fs1_col124, fs1_col125, fs1_col126, fs1_col127, fs1_col128, fs1_col129, fs1_col130, fs1_col131, fs1_col132, fs1_col133, fs1_col134, fs1_col135, fs1_col136, fs1_col137, fs1_col138, fs1_col139, fs1_col140, fs1_col141, fs1_col142, fs1_col143, fs1_col144, fs1_col145, fs1_col146, fs1_col147, fs1_col148, fs1_col149, fs1_col150, fs1_col151, fs1_col152, fs1_col153, fs1_col154, fs1_col155, fs1_col156, fs1_col157, fs1_col158, fs1_col159, fs1_col160, fs1_col161, fs1_col162, fs1_col163, fs1_col164, fs1_col165, fs1_col166, fs1_col167, fs1_col168, fs1_col169, fs1_col170, fs1_col171, fs1_col172, fs1_col173, fs1_col174, fs1_col175, fs1_col176, fs1_col177, fs1_col178, fs1_col179, fs1_col180, fs1_col181, fs1_col182, fs1_col183, fs1_col184, fs1_col185, fs1_col186, fs1_col187, fs1_col188, fs1_col189, fs1_col190, fs1_col191, fs1_col192, fs1_col193, fs1_col194, fs1_col195, fs1_col196, fs1_col197, fs1_col198, fs1_col199, fs1_col200, fs1_col201, fs1_col202, fs1_col203, fs1_col204, fs1_col205, fs1_col206, fs1_col207, fs1_col208, fs1_col209, fs1_col210, fs1_col211, fs1_col212, fs1_col213, fs1_col214, fs1_col215, fs1_col216, fs1_col217, fs1_col218, fs1_col219, fs1_col220, fs1_col221, fs1_col222, fs1_col223, fs1_col224, fs1_col225]]"
   ]
  },
  {
   "cell_type": "code",
   "execution_count": 9,
   "id": "2bb2aff4",
   "metadata": {},
   "outputs": [],
   "source": [
    "# Reduced Features (FS2)\n",
    "\n",
    "fs2 = pd.DataFrame(dataset_normalized, columns=dataset.columns)\n",
    "\n",
    "fs2_col1 = \"Number_of_Pitches\"\n",
    "fs2_col2 = \"Number_of_Pitch_Classes\"\n",
    "fs2_col3 = \"Number_of_Common_Pitches\"\n",
    "fs2_col4 = \"Number_of_Common_Pitch_Classes\"\n",
    "fs2_col5 = \"Range\"\n",
    "fs2_col6 = \"Importance_of_Bass_Register\"\n",
    "fs2_col7 = \"Importance_of_Middle_Register\"\n",
    "fs2_col8 = \"Importance_of_High_Register\"\n",
    "fs2_col9 = \"Dominant_Spread\"\n",
    "fs2_col10 = \"Strong_Tonal_Centres\"\n",
    "fs2_col11 = \"Relative_Prevalence_of_Top_Pitches\"\n",
    "fs2_col12 = \"Relative_Prevalence_of_Top_Pitch_Classes\"\n",
    "fs2_col13 = \"Interval_Between_Most_Prevalent_Pitches\"\n",
    "fs2_col14 = \"Interval_Between_Most_Prevalent_Pitch_Classes\"\n",
    "fs2_col15 = \"Pitch_Variability\"\n",
    "fs2_col16 = \"Pitch_Class_Variability\"\n",
    "fs2_col17 = \"Pitch_Class_Variability_After_Folding\"\n",
    "fs2_col18 = \"Pitch_Skewness\"\n",
    "fs2_col19 = \"Pitch_Class_Skewness\"\n",
    "fs2_col20 = \"Pitch_Class_Skewness_After_Folding\"\n",
    "fs2_col21 = \"Pitch_Kurtosis\"\n",
    "fs2_col22 = \"Pitch_Class_Kurtosis\"\n",
    "fs2_col23 = \"Pitch_Class_Kurtosis_After_Folding\"\n",
    "fs2_col24 = \"Most_Common_Melodic_Interval\"\n",
    "fs2_col25 = \"Mean_Melodic_Interval\"\n",
    "fs2_col26 = \"Number_of_Common_Melodic_Intervals\"\n",
    "fs2_col27 = \"Distance_Between_Most_Prevalent_Melodic_Intervals\"\n",
    "fs2_col28 = \"Prevalence_of_Most_Common_Melodic_Interval\"\n",
    "fs2_col29 = \"Relative_Prevalence_of_Most_Common_Melodic_Intervals\"\n",
    "fs2_col30 = \"Amount_of_Arpeggiation\"\n",
    "fs2_col31 = \"Repeated_Notes\"\n",
    "fs2_col32 = \"Chromatic_Motion\"\n",
    "fs2_col33 = \"Stepwise_Motion\"\n",
    "fs2_col34 = \"Melodic_Thirds\"\n",
    "fs2_col35 = \"Melodic_Perfect_Fourths\"\n",
    "fs2_col36 = \"Melodic_Tritones\"\n",
    "fs2_col37 = \"Melodic_Perfect_Fifths\"\n",
    "fs2_col38 = \"Melodic_Sixths\"\n",
    "fs2_col39 = \"Melodic_Sevenths\"\n",
    "fs2_col40 = \"Melodic_Octaves\"\n",
    "fs2_col41 = \"Melodic_Large_Intervals\"\n",
    "fs2_col42 = \"Minor_Major_Melodic_Third_Ratio\"\n",
    "fs2_col43 = \"Melodic_Embellishments\"\n",
    "fs2_col44 = \"Direction_of_Melodic_Motion\"\n",
    "fs2_col45 = \"Average_Length_of_Melodic_Arcs\"\n",
    "fs2_col46 = \"Average_Interval_Spanned_by_Melodic_Arcs\"\n",
    "fs2_col47 = \"Melodic_Pitch_Variety\"\n",
    "fs2_col48 = \"Average_Number_of_Simultaneous_Pitch_Classes\"\n",
    "fs2_col49 = \"Variability_of_Number_of_Simultaneous_Pitch_Classes\"\n",
    "fs2_col50 = \"Average_Number_of_Simultaneous_Pitches\"\n",
    "fs2_col51 = \"Variability_of_Number_of_Simultaneous_Pitches\"\n",
    "fs2_col52 = \"Most_Common_Vertical_Interval\"\n",
    "fs2_col53 = \"Second_Most_Common_Vertical_Interval\"\n",
    "fs2_col54 = \"Distance_Between_Two_Most_Common_Vertical_Intervals\"\n",
    "fs2_col55 = \"Prevalence_of_Most_Common_Vertical_Interval\"\n",
    "fs2_col56 = \"Prevalence_of_Second_Most_Common_Vertical_Interval\"\n",
    "fs2_col57 = \"Prevalence_Ratio_of_Two_Most_Common_Vertical_Intervals\"\n",
    "fs2_col58 = \"Vertical_Unisons\"\n",
    "fs2_col59 = \"Vertical_Minor_Seconds\"\n",
    "fs2_col60 = \"Vertical_Thirds\"\n",
    "fs2_col61 = \"Vertical_Tritones\"\n",
    "fs2_col62 = \"Vertical_Perfect_Fourths\"\n",
    "fs2_col63 = \"Vertical_Perfect_Fifths\"\n",
    "fs2_col64 = \"Vertical_Sixths\"\n",
    "fs2_col65 = \"Vertical_Sevenths\"\n",
    "fs2_col66 = \"Vertical_Octaves\"\n",
    "fs2_col67 = \"Perfect_Vertical_Intervals\"\n",
    "fs2_col68 = \"Vertical_Dissonance_Ratio\"\n",
    "fs2_col69 = \"Vertical_Minor_Third_Prevalence\"\n",
    "fs2_col70 = \"Vertical_Major_Third_Prevalence\"\n",
    "fs2_col71 = \"Chord_Duration\"\n",
    "fs2_col72 = \"Partial_Chords\"\n",
    "fs2_col73 = \"Standard_Triads\"\n",
    "fs2_col74 = \"Diminished_and_Augmented_Triads\"\n",
    "fs2_col75 = \"Dominant_Seventh_Chords\"\n",
    "fs2_col76 = \"Seventh_Chords\"\n",
    "fs2_col77 = \"Non-Standard_Chords\"\n",
    "fs2_col78 = \"Complex_Chords\"\n",
    "fs2_col79 = \"Minor_Major_Triad_Ratio\"\n",
    "fs2_col80 = \"Simple_Initial_Meter\"\n",
    "fs2_col81 = \"Compound_Initial_Meter\"\n",
    "fs2_col82 = \"Complex_Initial_Meter\"\n",
    "fs2_col83 = \"Duple_Initial_Meter\"\n",
    "fs2_col84 = \"Triple_Initial_Meter\"\n",
    "fs2_col85 = \"Quadruple_Initial_Meter\"\n",
    "fs2_col86 = \"Metrical_Diversity\"\n",
    "fs2_col87 = \"Total_Number_of_Notes\"\n",
    "fs2_col88 = \"Note_Density_per_Quarter_Note\"\n",
    "fs2_col89 = \"Note_Density_per_Quarter_Note_per_Voice\"\n",
    "fs2_col90 = \"Range_of_Rhythmic_Values\"\n",
    "fs2_col91 = \"Number_of_Different_Rhythmic_Values_Present\"\n",
    "fs2_col92 = \"Number_of_Common_Rhythmic_Values_Present\"\n",
    "fs2_col93 = \"Prevalence_of_Very_Short_Rhythmic_Values\"\n",
    "fs2_col94 = \"Prevalence_of_Short_Rhythmic_Values\"\n",
    "fs2_col95 = \"Prevalence_of_Medium_Rhythmic_Values\"\n",
    "fs2_col96 = \"Prevalence_of_Long_Rhythmic_Values\"\n",
    "fs2_col97 = \"Prevalence_of_Very_Long_Rhythmic_Values\"\n",
    "fs2_col98 = \"Prevalence_of_Dotted_Notes\"\n",
    "fs2_col99 = \"Shortest_Rhythmic_Value\"\n",
    "fs2_col100 = \"Longest_Rhythmic_Value\"\n",
    "fs2_col101 = \"Mean_Rhythmic_Value\"\n",
    "fs2_col102 = \"Most_Common_Rhythmic_Value\"\n",
    "fs2_col103 = \"Prevalence_of_Most_Common_Rhythmic_Value\"\n",
    "fs2_col104 = \"Relative_Prevalence_of_Most_Common_Rhythmic_Values\"\n",
    "fs2_col105 = \"Difference_Between_Most_Common_Rhythmic_Values\"\n",
    "fs2_col106 = \"Rhythmic_Value_Variability\"\n",
    "fs2_col107 = \"Rhythmic_Value_Skewness\"\n",
    "fs2_col108 = \"Rhythmic_Value_Kurtosis\"\n",
    "fs2_col109 = \"Mean_Rhythmic_Value_Run_Length\"\n",
    "fs2_col110 = \"Median_Rhythmic_Value_Run_Length\"\n",
    "fs2_col111 = \"Variability_in_Rhythmic_Value_Run_Lengths\"\n",
    "fs2_col112 = \"Complete_Rests_Fraction\"\n",
    "fs2_col113 = \"Average_Rest_Fraction_Across_Voices\"\n",
    "fs2_col114 = \"Longest_Complete_Rest\"\n",
    "fs2_col115 = \"Mean_Complete_Rest_Duration\"\n",
    "fs2_col116 = \"Median_Complete_Rest_Duration\"\n",
    "fs2_col117 = \"Variability_of_Complete_Rest_Durations\"\n",
    "fs2_col118 = \"Polyrhythms_-_Tempo_Standardized\"\n",
    "fs2_col119 = \"Initial_Tempo\"\n",
    "fs2_col120 = \"Mean_Tempo\"\n",
    "fs2_col121 = \"Tempo_Variability\"\n",
    "fs2_col122 = \"Duration_in_Seconds\"\n",
    "fs2_col123 = \"Note_Density\"\n",
    "fs2_col124 = \"Note_Density_Variability\"\n",
    "fs2_col125 = \"Average_Time_Between_Attacks\"\n",
    "fs2_col126 = \"Average_Time_Between_Attacks_for_Each_Voice\"\n",
    "fs2_col127 = \"Variability_of_Time_Between_Attacks\"\n",
    "fs2_col128 = \"Average_Variability_of_Time_Between_Attacks_for_Each_Voice\"\n",
    "fs2_col129 = \"Average_Note_Duration\"\n",
    "fs2_col130 = \"Variability_of_Note_Durations\"\n",
    "fs2_col131 = \"Amount_of_Staccato\"\n",
    "fs2_col132 = \"Variability_of_Note_Prevalence_of_Pitched_Instruments\"\n",
    "fs2_col133 = \"Variability_of_Note_Prevalence_of_Unpitched_Instruments\"\n",
    "fs2_col134 = \"Number_of_Pitched_Instruments\"\n",
    "fs2_col135 = \"Number_of_Unpitched_Instruments\"\n",
    "fs2_col136 = \"Unpitched_Percussion_Instrument_Prevalence\"\n",
    "fs2_col137 = \"String_Keyboard_Prevalence\"\n",
    "fs2_col138 = \"Acoustic_Guitar_Prevalence\"\n",
    "fs2_col139 = \"Electric_Guitar_Prevalence\"\n",
    "fs2_col140 = \"Violin_Prevalence\"\n",
    "fs2_col141 = \"Saxophone_Prevalence\"\n",
    "fs2_col142 = \"Brass_Prevalence\"\n",
    "fs2_col143 = \"Woodwinds_Prevalence\"\n",
    "fs2_col144 = \"Orchestral_Strings_Prevalence\"\n",
    "fs2_col145 = \"String_Ensemble_Prevalence\"\n",
    "fs2_col146 = \"Electric_Instrument_Prevalence\"\n",
    "fs2_col147 = \"Maximum_Number_of_Independent_Voices\"\n",
    "fs2_col148 = \"Average_Number_of_Independent_Voices\"\n",
    "fs2_col149 = \"Variability_of_Number_of_Independent_Voices\"\n",
    "fs2_col150 = \"Voice_Equality_-_Number_of_Notes\"\n",
    "fs2_col151 = \"Voice_Equality_-_Note_Duration\"\n",
    "fs2_col152 = \"Voice_Equality_-_Melodic_Leaps\"\n",
    "fs2_col153 = \"Voice_Equality_-_Range\"\n",
    "fs2_col154 = \"Relative_Range_of_Highest_Line\"\n",
    "fs2_col155 = \"Relative_Note_Density_of_Highest_Line\"\n",
    "fs2_col156 = \"Relative_Note_Durations_of_Lowest_Line\"\n",
    "fs2_col157 = \"Relative_Size_of_Melodic_Intervals_in_Lowest_Line\"\n",
    "fs2_col158 = \"Voice_Overlap\"\n",
    "fs2_col159 = \"Voice_Separation\"\n",
    "fs2_col160 = \"Variability_of_Voice_Separation\"\n",
    "fs2_col161 = \"Parallel_Motion\"\n",
    "fs2_col162 = \"Similar_Motion\"\n",
    "fs2_col163 = \"Contrary_Motion\"\n",
    "fs2_col164 = \"Oblique_Motion\"\n",
    "fs2_col165 = \"Parallel_Fifths\"\n",
    "fs2_col166 = \"Parallel_Octaves\"\n",
    "\n",
    "\n",
    "fs2 = fs2[[fs2_col1, fs2_col2, fs2_col3, fs2_col4, fs2_col5, fs2_col6, fs2_col7, fs2_col8, fs2_col9, fs2_col10, fs2_col11, fs2_col12, fs2_col13, fs2_col14, fs2_col15, fs2_col16, fs2_col17, fs2_col18, fs2_col19, fs2_col20, fs2_col21, fs2_col22, fs2_col23, fs2_col24, fs2_col25, fs2_col26, fs2_col27, fs2_col28, fs2_col29, fs2_col30, fs2_col31, fs2_col32, fs2_col33, fs2_col34, fs2_col35, fs2_col36, fs2_col37, fs2_col38, fs2_col39, fs2_col40, fs2_col41, fs2_col42, fs2_col43, fs2_col44, fs2_col45, fs2_col46, fs2_col47, fs2_col48, fs2_col49, fs2_col50, fs2_col51, fs2_col52, fs2_col53, fs2_col54, fs2_col55, fs2_col56, fs2_col57, fs2_col58, fs2_col59, fs2_col60, fs2_col61, fs2_col62, fs2_col63, fs2_col64, fs2_col65, fs2_col66, fs2_col67, fs2_col68, fs2_col69, fs2_col70, fs2_col71, fs2_col72, fs2_col73, fs2_col74, fs2_col75, fs2_col76, fs2_col77, fs2_col78, fs2_col79, fs2_col80, fs2_col81, fs2_col82, fs2_col83, fs2_col84, fs2_col85, fs2_col86, fs2_col87, fs2_col88, fs2_col89, fs2_col90, fs2_col91, fs2_col92, fs2_col93, fs2_col94, fs2_col95, fs2_col96, fs2_col97, fs2_col98, fs2_col99, fs2_col100, fs2_col101, fs2_col102, fs2_col103, fs2_col104, fs2_col105, fs2_col106, fs2_col107, fs2_col108, fs2_col109, fs2_col110, fs2_col111, fs2_col112, fs2_col113, fs2_col114, fs2_col115, fs2_col116, fs2_col117, fs2_col118, fs2_col119, fs2_col120, fs2_col121, fs2_col122, fs2_col123, fs2_col124, fs2_col125, fs2_col126, fs2_col127, fs2_col128, fs2_col129, fs2_col130, fs2_col131, fs2_col132, fs2_col133, fs2_col134, fs2_col135, fs2_col136, fs2_col137, fs2_col138, fs2_col139, fs2_col140, fs2_col141, fs2_col142, fs2_col143, fs2_col144, fs2_col145, fs2_col146, fs2_col147, fs2_col148, fs2_col149, fs2_col150, fs2_col151, fs2_col152, fs2_col153, fs2_col154, fs2_col155, fs2_col156, fs2_col157, fs2_col158, fs2_col159, fs2_col160, fs2_col161, fs2_col162, fs2_col163, fs2_col164, fs2_col165, fs2_col166]]"
   ]
  },
  {
   "cell_type": "code",
   "execution_count": 10,
   "id": "a654f0b6",
   "metadata": {},
   "outputs": [],
   "source": [
    "# GETTING BEST SET OF PARAMETERS"
   ]
  },
  {
   "cell_type": "code",
   "execution_count": 11,
   "id": "f0283bc4",
   "metadata": {},
   "outputs": [
    {
     "name": "stderr",
     "output_type": "stream",
     "text": [
      "C:\\Users\\Earl Felizardo\\AppData\\Roaming\\Python\\Python310\\site-packages\\sklearn\\cluster\\_kmeans.py:1416: FutureWarning: The default value of `n_init` will change from 10 to 'auto' in 1.4. Set the value of `n_init` explicitly to suppress the warning\n",
      "  super()._check_params_vs_input(X, default_n_init=10)\n",
      "C:\\Users\\Earl Felizardo\\AppData\\Roaming\\Python\\Python310\\site-packages\\sklearn\\cluster\\_kmeans.py:1440: UserWarning: KMeans is known to have a memory leak on Windows with MKL, when there are less chunks than available threads. You can avoid it by setting the environment variable OMP_NUM_THREADS=1.\n",
      "  warnings.warn(\n",
      "C:\\Users\\Earl Felizardo\\AppData\\Roaming\\Python\\Python310\\site-packages\\sklearn\\cluster\\_kmeans.py:1416: FutureWarning: The default value of `n_init` will change from 10 to 'auto' in 1.4. Set the value of `n_init` explicitly to suppress the warning\n",
      "  super()._check_params_vs_input(X, default_n_init=10)\n",
      "C:\\Users\\Earl Felizardo\\AppData\\Roaming\\Python\\Python310\\site-packages\\sklearn\\cluster\\_kmeans.py:1440: UserWarning: KMeans is known to have a memory leak on Windows with MKL, when there are less chunks than available threads. You can avoid it by setting the environment variable OMP_NUM_THREADS=1.\n",
      "  warnings.warn(\n",
      "C:\\Users\\Earl Felizardo\\AppData\\Roaming\\Python\\Python310\\site-packages\\sklearn\\cluster\\_kmeans.py:1416: FutureWarning: The default value of `n_init` will change from 10 to 'auto' in 1.4. Set the value of `n_init` explicitly to suppress the warning\n",
      "  super()._check_params_vs_input(X, default_n_init=10)\n",
      "C:\\Users\\Earl Felizardo\\AppData\\Roaming\\Python\\Python310\\site-packages\\sklearn\\cluster\\_kmeans.py:1440: UserWarning: KMeans is known to have a memory leak on Windows with MKL, when there are less chunks than available threads. You can avoid it by setting the environment variable OMP_NUM_THREADS=1.\n",
      "  warnings.warn(\n",
      "C:\\Users\\Earl Felizardo\\AppData\\Roaming\\Python\\Python310\\site-packages\\sklearn\\cluster\\_kmeans.py:1416: FutureWarning: The default value of `n_init` will change from 10 to 'auto' in 1.4. Set the value of `n_init` explicitly to suppress the warning\n",
      "  super()._check_params_vs_input(X, default_n_init=10)\n",
      "C:\\Users\\Earl Felizardo\\AppData\\Roaming\\Python\\Python310\\site-packages\\sklearn\\cluster\\_kmeans.py:1440: UserWarning: KMeans is known to have a memory leak on Windows with MKL, when there are less chunks than available threads. You can avoid it by setting the environment variable OMP_NUM_THREADS=1.\n",
      "  warnings.warn(\n",
      "C:\\Users\\Earl Felizardo\\AppData\\Roaming\\Python\\Python310\\site-packages\\sklearn\\cluster\\_kmeans.py:1416: FutureWarning: The default value of `n_init` will change from 10 to 'auto' in 1.4. Set the value of `n_init` explicitly to suppress the warning\n",
      "  super()._check_params_vs_input(X, default_n_init=10)\n",
      "C:\\Users\\Earl Felizardo\\AppData\\Roaming\\Python\\Python310\\site-packages\\sklearn\\cluster\\_kmeans.py:1440: UserWarning: KMeans is known to have a memory leak on Windows with MKL, when there are less chunks than available threads. You can avoid it by setting the environment variable OMP_NUM_THREADS=1.\n",
      "  warnings.warn(\n",
      "C:\\Users\\Earl Felizardo\\AppData\\Roaming\\Python\\Python310\\site-packages\\sklearn\\cluster\\_kmeans.py:1416: FutureWarning: The default value of `n_init` will change from 10 to 'auto' in 1.4. Set the value of `n_init` explicitly to suppress the warning\n",
      "  super()._check_params_vs_input(X, default_n_init=10)\n",
      "C:\\Users\\Earl Felizardo\\AppData\\Roaming\\Python\\Python310\\site-packages\\sklearn\\cluster\\_kmeans.py:1440: UserWarning: KMeans is known to have a memory leak on Windows with MKL, when there are less chunks than available threads. You can avoid it by setting the environment variable OMP_NUM_THREADS=1.\n",
      "  warnings.warn(\n",
      "C:\\Users\\Earl Felizardo\\AppData\\Roaming\\Python\\Python310\\site-packages\\sklearn\\cluster\\_kmeans.py:1416: FutureWarning: The default value of `n_init` will change from 10 to 'auto' in 1.4. Set the value of `n_init` explicitly to suppress the warning\n",
      "  super()._check_params_vs_input(X, default_n_init=10)\n",
      "C:\\Users\\Earl Felizardo\\AppData\\Roaming\\Python\\Python310\\site-packages\\sklearn\\cluster\\_kmeans.py:1440: UserWarning: KMeans is known to have a memory leak on Windows with MKL, when there are less chunks than available threads. You can avoid it by setting the environment variable OMP_NUM_THREADS=1.\n",
      "  warnings.warn(\n",
      "C:\\Users\\Earl Felizardo\\AppData\\Roaming\\Python\\Python310\\site-packages\\sklearn\\cluster\\_kmeans.py:1416: FutureWarning: The default value of `n_init` will change from 10 to 'auto' in 1.4. Set the value of `n_init` explicitly to suppress the warning\n",
      "  super()._check_params_vs_input(X, default_n_init=10)\n",
      "C:\\Users\\Earl Felizardo\\AppData\\Roaming\\Python\\Python310\\site-packages\\sklearn\\cluster\\_kmeans.py:1440: UserWarning: KMeans is known to have a memory leak on Windows with MKL, when there are less chunks than available threads. You can avoid it by setting the environment variable OMP_NUM_THREADS=1.\n",
      "  warnings.warn(\n",
      "C:\\Users\\Earl Felizardo\\AppData\\Roaming\\Python\\Python310\\site-packages\\sklearn\\cluster\\_kmeans.py:1416: FutureWarning: The default value of `n_init` will change from 10 to 'auto' in 1.4. Set the value of `n_init` explicitly to suppress the warning\n",
      "  super()._check_params_vs_input(X, default_n_init=10)\n",
      "C:\\Users\\Earl Felizardo\\AppData\\Roaming\\Python\\Python310\\site-packages\\sklearn\\cluster\\_kmeans.py:1440: UserWarning: KMeans is known to have a memory leak on Windows with MKL, when there are less chunks than available threads. You can avoid it by setting the environment variable OMP_NUM_THREADS=1.\n",
      "  warnings.warn(\n",
      "C:\\Users\\Earl Felizardo\\AppData\\Roaming\\Python\\Python310\\site-packages\\sklearn\\cluster\\_kmeans.py:1416: FutureWarning: The default value of `n_init` will change from 10 to 'auto' in 1.4. Set the value of `n_init` explicitly to suppress the warning\n",
      "  super()._check_params_vs_input(X, default_n_init=10)\n",
      "C:\\Users\\Earl Felizardo\\AppData\\Roaming\\Python\\Python310\\site-packages\\sklearn\\cluster\\_kmeans.py:1440: UserWarning: KMeans is known to have a memory leak on Windows with MKL, when there are less chunks than available threads. You can avoid it by setting the environment variable OMP_NUM_THREADS=1.\n",
      "  warnings.warn(\n",
      "C:\\Users\\Earl Felizardo\\AppData\\Roaming\\Python\\Python310\\site-packages\\sklearn\\cluster\\_kmeans.py:1416: FutureWarning: The default value of `n_init` will change from 10 to 'auto' in 1.4. Set the value of `n_init` explicitly to suppress the warning\n",
      "  super()._check_params_vs_input(X, default_n_init=10)\n",
      "C:\\Users\\Earl Felizardo\\AppData\\Roaming\\Python\\Python310\\site-packages\\sklearn\\cluster\\_kmeans.py:1440: UserWarning: KMeans is known to have a memory leak on Windows with MKL, when there are less chunks than available threads. You can avoid it by setting the environment variable OMP_NUM_THREADS=1.\n",
      "  warnings.warn(\n",
      "C:\\Users\\Earl Felizardo\\AppData\\Roaming\\Python\\Python310\\site-packages\\sklearn\\cluster\\_kmeans.py:1416: FutureWarning: The default value of `n_init` will change from 10 to 'auto' in 1.4. Set the value of `n_init` explicitly to suppress the warning\n",
      "  super()._check_params_vs_input(X, default_n_init=10)\n",
      "C:\\Users\\Earl Felizardo\\AppData\\Roaming\\Python\\Python310\\site-packages\\sklearn\\cluster\\_kmeans.py:1440: UserWarning: KMeans is known to have a memory leak on Windows with MKL, when there are less chunks than available threads. You can avoid it by setting the environment variable OMP_NUM_THREADS=1.\n",
      "  warnings.warn(\n",
      "C:\\Users\\Earl Felizardo\\AppData\\Roaming\\Python\\Python310\\site-packages\\sklearn\\cluster\\_kmeans.py:1416: FutureWarning: The default value of `n_init` will change from 10 to 'auto' in 1.4. Set the value of `n_init` explicitly to suppress the warning\n",
      "  super()._check_params_vs_input(X, default_n_init=10)\n",
      "C:\\Users\\Earl Felizardo\\AppData\\Roaming\\Python\\Python310\\site-packages\\sklearn\\cluster\\_kmeans.py:1440: UserWarning: KMeans is known to have a memory leak on Windows with MKL, when there are less chunks than available threads. You can avoid it by setting the environment variable OMP_NUM_THREADS=1.\n",
      "  warnings.warn(\n",
      "C:\\Users\\Earl Felizardo\\AppData\\Roaming\\Python\\Python310\\site-packages\\sklearn\\cluster\\_kmeans.py:1416: FutureWarning: The default value of `n_init` will change from 10 to 'auto' in 1.4. Set the value of `n_init` explicitly to suppress the warning\n",
      "  super()._check_params_vs_input(X, default_n_init=10)\n",
      "C:\\Users\\Earl Felizardo\\AppData\\Roaming\\Python\\Python310\\site-packages\\sklearn\\cluster\\_kmeans.py:1440: UserWarning: KMeans is known to have a memory leak on Windows with MKL, when there are less chunks than available threads. You can avoid it by setting the environment variable OMP_NUM_THREADS=1.\n",
      "  warnings.warn(\n"
     ]
    },
    {
     "name": "stderr",
     "output_type": "stream",
     "text": [
      "C:\\Users\\Earl Felizardo\\AppData\\Roaming\\Python\\Python310\\site-packages\\sklearn\\cluster\\_kmeans.py:1416: FutureWarning: The default value of `n_init` will change from 10 to 'auto' in 1.4. Set the value of `n_init` explicitly to suppress the warning\n",
      "  super()._check_params_vs_input(X, default_n_init=10)\n",
      "C:\\Users\\Earl Felizardo\\AppData\\Roaming\\Python\\Python310\\site-packages\\sklearn\\cluster\\_kmeans.py:1440: UserWarning: KMeans is known to have a memory leak on Windows with MKL, when there are less chunks than available threads. You can avoid it by setting the environment variable OMP_NUM_THREADS=1.\n",
      "  warnings.warn(\n",
      "C:\\Users\\Earl Felizardo\\AppData\\Roaming\\Python\\Python310\\site-packages\\sklearn\\cluster\\_kmeans.py:1416: FutureWarning: The default value of `n_init` will change from 10 to 'auto' in 1.4. Set the value of `n_init` explicitly to suppress the warning\n",
      "  super()._check_params_vs_input(X, default_n_init=10)\n",
      "C:\\Users\\Earl Felizardo\\AppData\\Roaming\\Python\\Python310\\site-packages\\sklearn\\cluster\\_kmeans.py:1440: UserWarning: KMeans is known to have a memory leak on Windows with MKL, when there are less chunks than available threads. You can avoid it by setting the environment variable OMP_NUM_THREADS=1.\n",
      "  warnings.warn(\n",
      "C:\\Users\\Earl Felizardo\\AppData\\Roaming\\Python\\Python310\\site-packages\\sklearn\\cluster\\_kmeans.py:1416: FutureWarning: The default value of `n_init` will change from 10 to 'auto' in 1.4. Set the value of `n_init` explicitly to suppress the warning\n",
      "  super()._check_params_vs_input(X, default_n_init=10)\n",
      "C:\\Users\\Earl Felizardo\\AppData\\Roaming\\Python\\Python310\\site-packages\\sklearn\\cluster\\_kmeans.py:1440: UserWarning: KMeans is known to have a memory leak on Windows with MKL, when there are less chunks than available threads. You can avoid it by setting the environment variable OMP_NUM_THREADS=1.\n",
      "  warnings.warn(\n",
      "C:\\Users\\Earl Felizardo\\AppData\\Roaming\\Python\\Python310\\site-packages\\sklearn\\cluster\\_kmeans.py:1416: FutureWarning: The default value of `n_init` will change from 10 to 'auto' in 1.4. Set the value of `n_init` explicitly to suppress the warning\n",
      "  super()._check_params_vs_input(X, default_n_init=10)\n",
      "C:\\Users\\Earl Felizardo\\AppData\\Roaming\\Python\\Python310\\site-packages\\sklearn\\cluster\\_kmeans.py:1440: UserWarning: KMeans is known to have a memory leak on Windows with MKL, when there are less chunks than available threads. You can avoid it by setting the environment variable OMP_NUM_THREADS=1.\n",
      "  warnings.warn(\n",
      "C:\\Users\\Earl Felizardo\\AppData\\Roaming\\Python\\Python310\\site-packages\\sklearn\\cluster\\_kmeans.py:1416: FutureWarning: The default value of `n_init` will change from 10 to 'auto' in 1.4. Set the value of `n_init` explicitly to suppress the warning\n",
      "  super()._check_params_vs_input(X, default_n_init=10)\n",
      "C:\\Users\\Earl Felizardo\\AppData\\Roaming\\Python\\Python310\\site-packages\\sklearn\\cluster\\_kmeans.py:1440: UserWarning: KMeans is known to have a memory leak on Windows with MKL, when there are less chunks than available threads. You can avoid it by setting the environment variable OMP_NUM_THREADS=1.\n",
      "  warnings.warn(\n",
      "C:\\Users\\Earl Felizardo\\AppData\\Roaming\\Python\\Python310\\site-packages\\sklearn\\cluster\\_kmeans.py:1416: FutureWarning: The default value of `n_init` will change from 10 to 'auto' in 1.4. Set the value of `n_init` explicitly to suppress the warning\n",
      "  super()._check_params_vs_input(X, default_n_init=10)\n",
      "C:\\Users\\Earl Felizardo\\AppData\\Roaming\\Python\\Python310\\site-packages\\sklearn\\cluster\\_kmeans.py:1440: UserWarning: KMeans is known to have a memory leak on Windows with MKL, when there are less chunks than available threads. You can avoid it by setting the environment variable OMP_NUM_THREADS=1.\n",
      "  warnings.warn(\n",
      "C:\\Users\\Earl Felizardo\\AppData\\Roaming\\Python\\Python310\\site-packages\\sklearn\\cluster\\_kmeans.py:1416: FutureWarning: The default value of `n_init` will change from 10 to 'auto' in 1.4. Set the value of `n_init` explicitly to suppress the warning\n",
      "  super()._check_params_vs_input(X, default_n_init=10)\n",
      "C:\\Users\\Earl Felizardo\\AppData\\Roaming\\Python\\Python310\\site-packages\\sklearn\\cluster\\_kmeans.py:1440: UserWarning: KMeans is known to have a memory leak on Windows with MKL, when there are less chunks than available threads. You can avoid it by setting the environment variable OMP_NUM_THREADS=1.\n",
      "  warnings.warn(\n",
      "C:\\Users\\Earl Felizardo\\AppData\\Roaming\\Python\\Python310\\site-packages\\sklearn\\cluster\\_kmeans.py:1416: FutureWarning: The default value of `n_init` will change from 10 to 'auto' in 1.4. Set the value of `n_init` explicitly to suppress the warning\n",
      "  super()._check_params_vs_input(X, default_n_init=10)\n",
      "C:\\Users\\Earl Felizardo\\AppData\\Roaming\\Python\\Python310\\site-packages\\sklearn\\cluster\\_kmeans.py:1440: UserWarning: KMeans is known to have a memory leak on Windows with MKL, when there are less chunks than available threads. You can avoid it by setting the environment variable OMP_NUM_THREADS=1.\n",
      "  warnings.warn(\n",
      "C:\\Users\\Earl Felizardo\\AppData\\Roaming\\Python\\Python310\\site-packages\\sklearn\\cluster\\_kmeans.py:1416: FutureWarning: The default value of `n_init` will change from 10 to 'auto' in 1.4. Set the value of `n_init` explicitly to suppress the warning\n",
      "  super()._check_params_vs_input(X, default_n_init=10)\n",
      "C:\\Users\\Earl Felizardo\\AppData\\Roaming\\Python\\Python310\\site-packages\\sklearn\\cluster\\_kmeans.py:1440: UserWarning: KMeans is known to have a memory leak on Windows with MKL, when there are less chunks than available threads. You can avoid it by setting the environment variable OMP_NUM_THREADS=1.\n",
      "  warnings.warn(\n",
      "C:\\Users\\Earl Felizardo\\AppData\\Roaming\\Python\\Python310\\site-packages\\sklearn\\cluster\\_kmeans.py:1416: FutureWarning: The default value of `n_init` will change from 10 to 'auto' in 1.4. Set the value of `n_init` explicitly to suppress the warning\n",
      "  super()._check_params_vs_input(X, default_n_init=10)\n",
      "C:\\Users\\Earl Felizardo\\AppData\\Roaming\\Python\\Python310\\site-packages\\sklearn\\cluster\\_kmeans.py:1440: UserWarning: KMeans is known to have a memory leak on Windows with MKL, when there are less chunks than available threads. You can avoid it by setting the environment variable OMP_NUM_THREADS=1.\n",
      "  warnings.warn(\n",
      "C:\\Users\\Earl Felizardo\\AppData\\Roaming\\Python\\Python310\\site-packages\\sklearn\\cluster\\_kmeans.py:1416: FutureWarning: The default value of `n_init` will change from 10 to 'auto' in 1.4. Set the value of `n_init` explicitly to suppress the warning\n",
      "  super()._check_params_vs_input(X, default_n_init=10)\n",
      "C:\\Users\\Earl Felizardo\\AppData\\Roaming\\Python\\Python310\\site-packages\\sklearn\\cluster\\_kmeans.py:1440: UserWarning: KMeans is known to have a memory leak on Windows with MKL, when there are less chunks than available threads. You can avoid it by setting the environment variable OMP_NUM_THREADS=1.\n",
      "  warnings.warn(\n",
      "C:\\Users\\Earl Felizardo\\AppData\\Roaming\\Python\\Python310\\site-packages\\sklearn\\cluster\\_kmeans.py:1416: FutureWarning: The default value of `n_init` will change from 10 to 'auto' in 1.4. Set the value of `n_init` explicitly to suppress the warning\n",
      "  super()._check_params_vs_input(X, default_n_init=10)\n",
      "C:\\Users\\Earl Felizardo\\AppData\\Roaming\\Python\\Python310\\site-packages\\sklearn\\cluster\\_kmeans.py:1440: UserWarning: KMeans is known to have a memory leak on Windows with MKL, when there are less chunks than available threads. You can avoid it by setting the environment variable OMP_NUM_THREADS=1.\n",
      "  warnings.warn(\n",
      "C:\\Users\\Earl Felizardo\\AppData\\Roaming\\Python\\Python310\\site-packages\\sklearn\\cluster\\_kmeans.py:1416: FutureWarning: The default value of `n_init` will change from 10 to 'auto' in 1.4. Set the value of `n_init` explicitly to suppress the warning\n",
      "  super()._check_params_vs_input(X, default_n_init=10)\n",
      "C:\\Users\\Earl Felizardo\\AppData\\Roaming\\Python\\Python310\\site-packages\\sklearn\\cluster\\_kmeans.py:1440: UserWarning: KMeans is known to have a memory leak on Windows with MKL, when there are less chunks than available threads. You can avoid it by setting the environment variable OMP_NUM_THREADS=1.\n",
      "  warnings.warn(\n",
      "C:\\Users\\Earl Felizardo\\AppData\\Roaming\\Python\\Python310\\site-packages\\sklearn\\cluster\\_kmeans.py:1416: FutureWarning: The default value of `n_init` will change from 10 to 'auto' in 1.4. Set the value of `n_init` explicitly to suppress the warning\n",
      "  super()._check_params_vs_input(X, default_n_init=10)\n",
      "C:\\Users\\Earl Felizardo\\AppData\\Roaming\\Python\\Python310\\site-packages\\sklearn\\cluster\\_kmeans.py:1440: UserWarning: KMeans is known to have a memory leak on Windows with MKL, when there are less chunks than available threads. You can avoid it by setting the environment variable OMP_NUM_THREADS=1.\n",
      "  warnings.warn(\n"
     ]
    },
    {
     "name": "stderr",
     "output_type": "stream",
     "text": [
      "C:\\Users\\Earl Felizardo\\AppData\\Roaming\\Python\\Python310\\site-packages\\sklearn\\cluster\\_kmeans.py:1416: FutureWarning: The default value of `n_init` will change from 10 to 'auto' in 1.4. Set the value of `n_init` explicitly to suppress the warning\n",
      "  super()._check_params_vs_input(X, default_n_init=10)\n",
      "C:\\Users\\Earl Felizardo\\AppData\\Roaming\\Python\\Python310\\site-packages\\sklearn\\cluster\\_kmeans.py:1440: UserWarning: KMeans is known to have a memory leak on Windows with MKL, when there are less chunks than available threads. You can avoid it by setting the environment variable OMP_NUM_THREADS=1.\n",
      "  warnings.warn(\n",
      "C:\\Users\\Earl Felizardo\\AppData\\Roaming\\Python\\Python310\\site-packages\\sklearn\\cluster\\_kmeans.py:1416: FutureWarning: The default value of `n_init` will change from 10 to 'auto' in 1.4. Set the value of `n_init` explicitly to suppress the warning\n",
      "  super()._check_params_vs_input(X, default_n_init=10)\n",
      "C:\\Users\\Earl Felizardo\\AppData\\Roaming\\Python\\Python310\\site-packages\\sklearn\\cluster\\_kmeans.py:1440: UserWarning: KMeans is known to have a memory leak on Windows with MKL, when there are less chunks than available threads. You can avoid it by setting the environment variable OMP_NUM_THREADS=1.\n",
      "  warnings.warn(\n",
      "C:\\Users\\Earl Felizardo\\AppData\\Roaming\\Python\\Python310\\site-packages\\sklearn\\cluster\\_kmeans.py:1416: FutureWarning: The default value of `n_init` will change from 10 to 'auto' in 1.4. Set the value of `n_init` explicitly to suppress the warning\n",
      "  super()._check_params_vs_input(X, default_n_init=10)\n",
      "C:\\Users\\Earl Felizardo\\AppData\\Roaming\\Python\\Python310\\site-packages\\sklearn\\cluster\\_kmeans.py:1440: UserWarning: KMeans is known to have a memory leak on Windows with MKL, when there are less chunks than available threads. You can avoid it by setting the environment variable OMP_NUM_THREADS=1.\n",
      "  warnings.warn(\n",
      "C:\\Users\\Earl Felizardo\\AppData\\Roaming\\Python\\Python310\\site-packages\\sklearn\\cluster\\_kmeans.py:1416: FutureWarning: The default value of `n_init` will change from 10 to 'auto' in 1.4. Set the value of `n_init` explicitly to suppress the warning\n",
      "  super()._check_params_vs_input(X, default_n_init=10)\n",
      "C:\\Users\\Earl Felizardo\\AppData\\Roaming\\Python\\Python310\\site-packages\\sklearn\\cluster\\_kmeans.py:1440: UserWarning: KMeans is known to have a memory leak on Windows with MKL, when there are less chunks than available threads. You can avoid it by setting the environment variable OMP_NUM_THREADS=1.\n",
      "  warnings.warn(\n",
      "C:\\Users\\Earl Felizardo\\AppData\\Roaming\\Python\\Python310\\site-packages\\sklearn\\cluster\\_kmeans.py:1416: FutureWarning: The default value of `n_init` will change from 10 to 'auto' in 1.4. Set the value of `n_init` explicitly to suppress the warning\n",
      "  super()._check_params_vs_input(X, default_n_init=10)\n",
      "C:\\Users\\Earl Felizardo\\AppData\\Roaming\\Python\\Python310\\site-packages\\sklearn\\cluster\\_kmeans.py:1440: UserWarning: KMeans is known to have a memory leak on Windows with MKL, when there are less chunks than available threads. You can avoid it by setting the environment variable OMP_NUM_THREADS=1.\n",
      "  warnings.warn(\n",
      "C:\\Users\\Earl Felizardo\\AppData\\Roaming\\Python\\Python310\\site-packages\\sklearn\\cluster\\_kmeans.py:1416: FutureWarning: The default value of `n_init` will change from 10 to 'auto' in 1.4. Set the value of `n_init` explicitly to suppress the warning\n",
      "  super()._check_params_vs_input(X, default_n_init=10)\n",
      "C:\\Users\\Earl Felizardo\\AppData\\Roaming\\Python\\Python310\\site-packages\\sklearn\\cluster\\_kmeans.py:1440: UserWarning: KMeans is known to have a memory leak on Windows with MKL, when there are less chunks than available threads. You can avoid it by setting the environment variable OMP_NUM_THREADS=1.\n",
      "  warnings.warn(\n",
      "C:\\Users\\Earl Felizardo\\AppData\\Roaming\\Python\\Python310\\site-packages\\sklearn\\cluster\\_kmeans.py:1416: FutureWarning: The default value of `n_init` will change from 10 to 'auto' in 1.4. Set the value of `n_init` explicitly to suppress the warning\n",
      "  super()._check_params_vs_input(X, default_n_init=10)\n",
      "C:\\Users\\Earl Felizardo\\AppData\\Roaming\\Python\\Python310\\site-packages\\sklearn\\cluster\\_kmeans.py:1440: UserWarning: KMeans is known to have a memory leak on Windows with MKL, when there are less chunks than available threads. You can avoid it by setting the environment variable OMP_NUM_THREADS=1.\n",
      "  warnings.warn(\n",
      "C:\\Users\\Earl Felizardo\\AppData\\Roaming\\Python\\Python310\\site-packages\\sklearn\\cluster\\_kmeans.py:1416: FutureWarning: The default value of `n_init` will change from 10 to 'auto' in 1.4. Set the value of `n_init` explicitly to suppress the warning\n",
      "  super()._check_params_vs_input(X, default_n_init=10)\n",
      "C:\\Users\\Earl Felizardo\\AppData\\Roaming\\Python\\Python310\\site-packages\\sklearn\\cluster\\_kmeans.py:1440: UserWarning: KMeans is known to have a memory leak on Windows with MKL, when there are less chunks than available threads. You can avoid it by setting the environment variable OMP_NUM_THREADS=1.\n",
      "  warnings.warn(\n",
      "C:\\Users\\Earl Felizardo\\AppData\\Roaming\\Python\\Python310\\site-packages\\sklearn\\cluster\\_kmeans.py:1416: FutureWarning: The default value of `n_init` will change from 10 to 'auto' in 1.4. Set the value of `n_init` explicitly to suppress the warning\n",
      "  super()._check_params_vs_input(X, default_n_init=10)\n",
      "C:\\Users\\Earl Felizardo\\AppData\\Roaming\\Python\\Python310\\site-packages\\sklearn\\cluster\\_kmeans.py:1440: UserWarning: KMeans is known to have a memory leak on Windows with MKL, when there are less chunks than available threads. You can avoid it by setting the environment variable OMP_NUM_THREADS=1.\n",
      "  warnings.warn(\n",
      "C:\\Users\\Earl Felizardo\\AppData\\Roaming\\Python\\Python310\\site-packages\\sklearn\\cluster\\_kmeans.py:1416: FutureWarning: The default value of `n_init` will change from 10 to 'auto' in 1.4. Set the value of `n_init` explicitly to suppress the warning\n",
      "  super()._check_params_vs_input(X, default_n_init=10)\n",
      "C:\\Users\\Earl Felizardo\\AppData\\Roaming\\Python\\Python310\\site-packages\\sklearn\\cluster\\_kmeans.py:1440: UserWarning: KMeans is known to have a memory leak on Windows with MKL, when there are less chunks than available threads. You can avoid it by setting the environment variable OMP_NUM_THREADS=1.\n",
      "  warnings.warn(\n",
      "C:\\Users\\Earl Felizardo\\AppData\\Roaming\\Python\\Python310\\site-packages\\sklearn\\cluster\\_kmeans.py:1416: FutureWarning: The default value of `n_init` will change from 10 to 'auto' in 1.4. Set the value of `n_init` explicitly to suppress the warning\n",
      "  super()._check_params_vs_input(X, default_n_init=10)\n",
      "C:\\Users\\Earl Felizardo\\AppData\\Roaming\\Python\\Python310\\site-packages\\sklearn\\cluster\\_kmeans.py:1440: UserWarning: KMeans is known to have a memory leak on Windows with MKL, when there are less chunks than available threads. You can avoid it by setting the environment variable OMP_NUM_THREADS=1.\n",
      "  warnings.warn(\n",
      "C:\\Users\\Earl Felizardo\\AppData\\Roaming\\Python\\Python310\\site-packages\\sklearn\\cluster\\_kmeans.py:1416: FutureWarning: The default value of `n_init` will change from 10 to 'auto' in 1.4. Set the value of `n_init` explicitly to suppress the warning\n",
      "  super()._check_params_vs_input(X, default_n_init=10)\n",
      "C:\\Users\\Earl Felizardo\\AppData\\Roaming\\Python\\Python310\\site-packages\\sklearn\\cluster\\_kmeans.py:1440: UserWarning: KMeans is known to have a memory leak on Windows with MKL, when there are less chunks than available threads. You can avoid it by setting the environment variable OMP_NUM_THREADS=1.\n",
      "  warnings.warn(\n",
      "C:\\Users\\Earl Felizardo\\AppData\\Roaming\\Python\\Python310\\site-packages\\sklearn\\cluster\\_kmeans.py:1416: FutureWarning: The default value of `n_init` will change from 10 to 'auto' in 1.4. Set the value of `n_init` explicitly to suppress the warning\n",
      "  super()._check_params_vs_input(X, default_n_init=10)\n",
      "C:\\Users\\Earl Felizardo\\AppData\\Roaming\\Python\\Python310\\site-packages\\sklearn\\cluster\\_kmeans.py:1440: UserWarning: KMeans is known to have a memory leak on Windows with MKL, when there are less chunks than available threads. You can avoid it by setting the environment variable OMP_NUM_THREADS=1.\n",
      "  warnings.warn(\n",
      "C:\\Users\\Earl Felizardo\\AppData\\Roaming\\Python\\Python310\\site-packages\\sklearn\\cluster\\_kmeans.py:1416: FutureWarning: The default value of `n_init` will change from 10 to 'auto' in 1.4. Set the value of `n_init` explicitly to suppress the warning\n",
      "  super()._check_params_vs_input(X, default_n_init=10)\n",
      "C:\\Users\\Earl Felizardo\\AppData\\Roaming\\Python\\Python310\\site-packages\\sklearn\\cluster\\_kmeans.py:1440: UserWarning: KMeans is known to have a memory leak on Windows with MKL, when there are less chunks than available threads. You can avoid it by setting the environment variable OMP_NUM_THREADS=1.\n",
      "  warnings.warn(\n"
     ]
    },
    {
     "name": "stderr",
     "output_type": "stream",
     "text": [
      "C:\\Users\\Earl Felizardo\\AppData\\Roaming\\Python\\Python310\\site-packages\\sklearn\\cluster\\_kmeans.py:1416: FutureWarning: The default value of `n_init` will change from 10 to 'auto' in 1.4. Set the value of `n_init` explicitly to suppress the warning\n",
      "  super()._check_params_vs_input(X, default_n_init=10)\n",
      "C:\\Users\\Earl Felizardo\\AppData\\Roaming\\Python\\Python310\\site-packages\\sklearn\\cluster\\_kmeans.py:1440: UserWarning: KMeans is known to have a memory leak on Windows with MKL, when there are less chunks than available threads. You can avoid it by setting the environment variable OMP_NUM_THREADS=1.\n",
      "  warnings.warn(\n",
      "C:\\Users\\Earl Felizardo\\AppData\\Roaming\\Python\\Python310\\site-packages\\sklearn\\cluster\\_kmeans.py:1416: FutureWarning: The default value of `n_init` will change from 10 to 'auto' in 1.4. Set the value of `n_init` explicitly to suppress the warning\n",
      "  super()._check_params_vs_input(X, default_n_init=10)\n",
      "C:\\Users\\Earl Felizardo\\AppData\\Roaming\\Python\\Python310\\site-packages\\sklearn\\cluster\\_kmeans.py:1440: UserWarning: KMeans is known to have a memory leak on Windows with MKL, when there are less chunks than available threads. You can avoid it by setting the environment variable OMP_NUM_THREADS=1.\n",
      "  warnings.warn(\n"
     ]
    }
   ],
   "source": [
    "# Elbow Method\n",
    "\n",
    "# Variables:\n",
    "# - k_range: Range of clusters to evaluate (2 to 12).\n",
    "# - inertias_fs1, inertias_fs2: Lists for within-cluster sum of squares.\n",
    "# - mapping_fs1, mapping_fs2: Dictionaries for mapping k to inertia.\n",
    "\n",
    "# Ensure reproducibility\n",
    "np.random.seed(42)\n",
    "\n",
    "k_range = range(2, 13)\n",
    "\n",
    "inertias_fs1 = []\n",
    "inertias_fs2 = []\n",
    "mapping_fs1 = {}\n",
    "mapping_fs2 = {}\n",
    " \n",
    "for k in k_range:\n",
    "    kmeans_model_fs1 = KMeans(n_clusters=k).fit(fs1)\n",
    "    kmeans_model_fs1.fit(fs1)\n",
    "\n",
    "    inertias_fs1.append(kmeans_model_fs1.inertia_)\n",
    "    mapping_fs1[k] = kmeans_model_fs1.inertia_\n",
    "\n",
    "    kmeans_model_fs2 = KMeans(n_clusters=k).fit(fs2)\n",
    "    kmeans_model_fs2.fit(fs2)\n",
    "\n",
    "    inertias_fs2.append(kmeans_model_fs2.inertia_)\n",
    "    mapping_fs2[k] = kmeans_model_fs2.inertia_"
   ]
  },
  {
   "cell_type": "code",
   "execution_count": 12,
   "id": "c3f779a1",
   "metadata": {},
   "outputs": [
    {
     "data": {
      "image/png": "[encoded data removed]",
      "text/plain": [
       "<Figure size 640x480 with 1 Axes>"
      ]
     },
     "metadata": {},
     "output_type": "display_data"
    },
    {
     "data": {
      "image/png": "[encoded data removed]",
      "text/plain": [
       "<Figure size 640x480 with 1 Axes>"
      ]
     },
     "metadata": {},
     "output_type": "display_data"
    }
   ],
   "source": [
    "# Visualize K versus inertia\n",
    "\n",
    "# Plot Elbow Method for FS1\n",
    "plt.plot(k_range, inertias_fs1, 'bx-')\n",
    "plt.xlabel('Values of K')\n",
    "plt.ylabel('Inertia')\n",
    "plt.title('Elbow Method using Inertia (FS1 - Full Features)')\n",
    "plt.show()\n",
    "\n",
    "# Plot Elbow Method for FS2\n",
    "plt.plot(k_range, inertias_fs2, 'bx-')\n",
    "plt.xlabel('Values of K')\n",
    "plt.ylabel('Inertia')\n",
    "plt.title('Elbow Method using Inertia (FS2 - Reduced Features)')\n",
    "plt.show()"
   ]
  },
  {
   "cell_type": "code",
   "execution_count": 13,
   "id": "15aef84a",
   "metadata": {},
   "outputs": [
    {
     "name": "stdout",
     "output_type": "stream",
     "text": [
      "FS1\n"
     ]
    },
    {
     "name": "stderr",
     "output_type": "stream",
     "text": [
      "C:\\Users\\Earl Felizardo\\AppData\\Roaming\\Python\\Python310\\site-packages\\sklearn\\cluster\\_kmeans.py:1440: UserWarning: KMeans is known to have a memory leak on Windows with MKL, when there are less chunks than available threads. You can avoid it by setting the environment variable OMP_NUM_THREADS=1.\n",
      "  warnings.warn(\n"
     ]
    },
    {
     "name": "stdout",
     "output_type": "stream",
     "text": [
      "(2, 0.9643)\n"
     ]
    },
    {
     "name": "stderr",
     "output_type": "stream",
     "text": [
      "C:\\Users\\Earl Felizardo\\AppData\\Roaming\\Python\\Python310\\site-packages\\sklearn\\cluster\\_kmeans.py:1440: UserWarning: KMeans is known to have a memory leak on Windows with MKL, when there are less chunks than available threads. You can avoid it by setting the environment variable OMP_NUM_THREADS=1.\n",
      "  warnings.warn(\n"
     ]
    },
    {
     "name": "stdout",
     "output_type": "stream",
     "text": [
      "(3, 0.8742)\n"
     ]
    },
    {
     "name": "stderr",
     "output_type": "stream",
     "text": [
      "C:\\Users\\Earl Felizardo\\AppData\\Roaming\\Python\\Python310\\site-packages\\sklearn\\cluster\\_kmeans.py:1440: UserWarning: KMeans is known to have a memory leak on Windows with MKL, when there are less chunks than available threads. You can avoid it by setting the environment variable OMP_NUM_THREADS=1.\n",
      "  warnings.warn(\n"
     ]
    },
    {
     "name": "stdout",
     "output_type": "stream",
     "text": [
      "(4, 0.7743)\n"
     ]
    },
    {
     "name": "stderr",
     "output_type": "stream",
     "text": [
      "C:\\Users\\Earl Felizardo\\AppData\\Roaming\\Python\\Python310\\site-packages\\sklearn\\cluster\\_kmeans.py:1440: UserWarning: KMeans is known to have a memory leak on Windows with MKL, when there are less chunks than available threads. You can avoid it by setting the environment variable OMP_NUM_THREADS=1.\n",
      "  warnings.warn(\n"
     ]
    },
    {
     "name": "stdout",
     "output_type": "stream",
     "text": [
      "(5, 0.7013)\n"
     ]
    },
    {
     "name": "stderr",
     "output_type": "stream",
     "text": [
      "C:\\Users\\Earl Felizardo\\AppData\\Roaming\\Python\\Python310\\site-packages\\sklearn\\cluster\\_kmeans.py:1440: UserWarning: KMeans is known to have a memory leak on Windows with MKL, when there are less chunks than available threads. You can avoid it by setting the environment variable OMP_NUM_THREADS=1.\n",
      "  warnings.warn(\n"
     ]
    },
    {
     "name": "stdout",
     "output_type": "stream",
     "text": [
      "(6, 0.1969)\n"
     ]
    },
    {
     "name": "stderr",
     "output_type": "stream",
     "text": [
      "C:\\Users\\Earl Felizardo\\AppData\\Roaming\\Python\\Python310\\site-packages\\sklearn\\cluster\\_kmeans.py:1440: UserWarning: KMeans is known to have a memory leak on Windows with MKL, when there are less chunks than available threads. You can avoid it by setting the environment variable OMP_NUM_THREADS=1.\n",
      "  warnings.warn(\n"
     ]
    },
    {
     "name": "stdout",
     "output_type": "stream",
     "text": [
      "(7, 0.0577)\n"
     ]
    },
    {
     "name": "stderr",
     "output_type": "stream",
     "text": [
      "C:\\Users\\Earl Felizardo\\AppData\\Roaming\\Python\\Python310\\site-packages\\sklearn\\cluster\\_kmeans.py:1440: UserWarning: KMeans is known to have a memory leak on Windows with MKL, when there are less chunks than available threads. You can avoid it by setting the environment variable OMP_NUM_THREADS=1.\n",
      "  warnings.warn(\n"
     ]
    },
    {
     "name": "stdout",
     "output_type": "stream",
     "text": [
      "(8, 0.0582)\n"
     ]
    },
    {
     "name": "stderr",
     "output_type": "stream",
     "text": [
      "C:\\Users\\Earl Felizardo\\AppData\\Roaming\\Python\\Python310\\site-packages\\sklearn\\cluster\\_kmeans.py:1440: UserWarning: KMeans is known to have a memory leak on Windows with MKL, when there are less chunks than available threads. You can avoid it by setting the environment variable OMP_NUM_THREADS=1.\n",
      "  warnings.warn(\n"
     ]
    },
    {
     "name": "stdout",
     "output_type": "stream",
     "text": [
      "(9, 0.0723)\n"
     ]
    },
    {
     "name": "stderr",
     "output_type": "stream",
     "text": [
      "C:\\Users\\Earl Felizardo\\AppData\\Roaming\\Python\\Python310\\site-packages\\sklearn\\cluster\\_kmeans.py:1440: UserWarning: KMeans is known to have a memory leak on Windows with MKL, when there are less chunks than available threads. You can avoid it by setting the environment variable OMP_NUM_THREADS=1.\n",
      "  warnings.warn(\n"
     ]
    },
    {
     "name": "stdout",
     "output_type": "stream",
     "text": [
      "(10, 0.0646)\n"
     ]
    },
    {
     "name": "stderr",
     "output_type": "stream",
     "text": [
      "C:\\Users\\Earl Felizardo\\AppData\\Roaming\\Python\\Python310\\site-packages\\sklearn\\cluster\\_kmeans.py:1440: UserWarning: KMeans is known to have a memory leak on Windows with MKL, when there are less chunks than available threads. You can avoid it by setting the environment variable OMP_NUM_THREADS=1.\n",
      "  warnings.warn(\n"
     ]
    },
    {
     "name": "stdout",
     "output_type": "stream",
     "text": [
      "(11, 0.0761)\n"
     ]
    },
    {
     "name": "stderr",
     "output_type": "stream",
     "text": [
      "C:\\Users\\Earl Felizardo\\AppData\\Roaming\\Python\\Python310\\site-packages\\sklearn\\cluster\\_kmeans.py:1440: UserWarning: KMeans is known to have a memory leak on Windows with MKL, when there are less chunks than available threads. You can avoid it by setting the environment variable OMP_NUM_THREADS=1.\n",
      "  warnings.warn(\n"
     ]
    },
    {
     "name": "stdout",
     "output_type": "stream",
     "text": [
      "(12, 0.0493)\n",
      "\n",
      "FS2\n"
     ]
    },
    {
     "name": "stderr",
     "output_type": "stream",
     "text": [
      "C:\\Users\\Earl Felizardo\\AppData\\Roaming\\Python\\Python310\\site-packages\\sklearn\\cluster\\_kmeans.py:1440: UserWarning: KMeans is known to have a memory leak on Windows with MKL, when there are less chunks than available threads. You can avoid it by setting the environment variable OMP_NUM_THREADS=1.\n",
      "  warnings.warn(\n"
     ]
    },
    {
     "name": "stdout",
     "output_type": "stream",
     "text": [
      "(2, 0.8896)\n"
     ]
    },
    {
     "name": "stderr",
     "output_type": "stream",
     "text": [
      "C:\\Users\\Earl Felizardo\\AppData\\Roaming\\Python\\Python310\\site-packages\\sklearn\\cluster\\_kmeans.py:1440: UserWarning: KMeans is known to have a memory leak on Windows with MKL, when there are less chunks than available threads. You can avoid it by setting the environment variable OMP_NUM_THREADS=1.\n",
      "  warnings.warn(\n"
     ]
    },
    {
     "name": "stdout",
     "output_type": "stream",
     "text": [
      "(3, 0.8945)\n"
     ]
    },
    {
     "name": "stderr",
     "output_type": "stream",
     "text": [
      "C:\\Users\\Earl Felizardo\\AppData\\Roaming\\Python\\Python310\\site-packages\\sklearn\\cluster\\_kmeans.py:1440: UserWarning: KMeans is known to have a memory leak on Windows with MKL, when there are less chunks than available threads. You can avoid it by setting the environment variable OMP_NUM_THREADS=1.\n",
      "  warnings.warn(\n"
     ]
    },
    {
     "name": "stdout",
     "output_type": "stream",
     "text": [
      "(4, 0.7583)\n"
     ]
    },
    {
     "name": "stderr",
     "output_type": "stream",
     "text": [
      "C:\\Users\\Earl Felizardo\\AppData\\Roaming\\Python\\Python310\\site-packages\\sklearn\\cluster\\_kmeans.py:1440: UserWarning: KMeans is known to have a memory leak on Windows with MKL, when there are less chunks than available threads. You can avoid it by setting the environment variable OMP_NUM_THREADS=1.\n",
      "  warnings.warn(\n"
     ]
    },
    {
     "name": "stdout",
     "output_type": "stream",
     "text": [
      "(5, 0.2316)\n"
     ]
    },
    {
     "name": "stderr",
     "output_type": "stream",
     "text": [
      "C:\\Users\\Earl Felizardo\\AppData\\Roaming\\Python\\Python310\\site-packages\\sklearn\\cluster\\_kmeans.py:1440: UserWarning: KMeans is known to have a memory leak on Windows with MKL, when there are less chunks than available threads. You can avoid it by setting the environment variable OMP_NUM_THREADS=1.\n",
      "  warnings.warn(\n"
     ]
    },
    {
     "name": "stdout",
     "output_type": "stream",
     "text": [
      "(6, 0.0762)\n"
     ]
    },
    {
     "name": "stderr",
     "output_type": "stream",
     "text": [
      "C:\\Users\\Earl Felizardo\\AppData\\Roaming\\Python\\Python310\\site-packages\\sklearn\\cluster\\_kmeans.py:1440: UserWarning: KMeans is known to have a memory leak on Windows with MKL, when there are less chunks than available threads. You can avoid it by setting the environment variable OMP_NUM_THREADS=1.\n",
      "  warnings.warn(\n"
     ]
    },
    {
     "name": "stdout",
     "output_type": "stream",
     "text": [
      "(7, 0.0572)\n"
     ]
    },
    {
     "name": "stderr",
     "output_type": "stream",
     "text": [
      "C:\\Users\\Earl Felizardo\\AppData\\Roaming\\Python\\Python310\\site-packages\\sklearn\\cluster\\_kmeans.py:1440: UserWarning: KMeans is known to have a memory leak on Windows with MKL, when there are less chunks than available threads. You can avoid it by setting the environment variable OMP_NUM_THREADS=1.\n",
      "  warnings.warn(\n"
     ]
    },
    {
     "name": "stdout",
     "output_type": "stream",
     "text": [
      "(8, 0.0729)\n"
     ]
    },
    {
     "name": "stderr",
     "output_type": "stream",
     "text": [
      "C:\\Users\\Earl Felizardo\\AppData\\Roaming\\Python\\Python310\\site-packages\\sklearn\\cluster\\_kmeans.py:1440: UserWarning: KMeans is known to have a memory leak on Windows with MKL, when there are less chunks than available threads. You can avoid it by setting the environment variable OMP_NUM_THREADS=1.\n",
      "  warnings.warn(\n"
     ]
    },
    {
     "name": "stdout",
     "output_type": "stream",
     "text": [
      "(9, 0.0817)\n"
     ]
    },
    {
     "name": "stderr",
     "output_type": "stream",
     "text": [
      "C:\\Users\\Earl Felizardo\\AppData\\Roaming\\Python\\Python310\\site-packages\\sklearn\\cluster\\_kmeans.py:1440: UserWarning: KMeans is known to have a memory leak on Windows with MKL, when there are less chunks than available threads. You can avoid it by setting the environment variable OMP_NUM_THREADS=1.\n",
      "  warnings.warn(\n"
     ]
    },
    {
     "name": "stdout",
     "output_type": "stream",
     "text": [
      "(10, 0.0423)\n"
     ]
    },
    {
     "name": "stderr",
     "output_type": "stream",
     "text": [
      "C:\\Users\\Earl Felizardo\\AppData\\Roaming\\Python\\Python310\\site-packages\\sklearn\\cluster\\_kmeans.py:1440: UserWarning: KMeans is known to have a memory leak on Windows with MKL, when there are less chunks than available threads. You can avoid it by setting the environment variable OMP_NUM_THREADS=1.\n",
      "  warnings.warn(\n"
     ]
    },
    {
     "name": "stdout",
     "output_type": "stream",
     "text": [
      "(11, 0.0273)\n"
     ]
    },
    {
     "name": "stderr",
     "output_type": "stream",
     "text": [
      "C:\\Users\\Earl Felizardo\\AppData\\Roaming\\Python\\Python310\\site-packages\\sklearn\\cluster\\_kmeans.py:1440: UserWarning: KMeans is known to have a memory leak on Windows with MKL, when there are less chunks than available threads. You can avoid it by setting the environment variable OMP_NUM_THREADS=1.\n",
      "  warnings.warn(\n"
     ]
    },
    {
     "name": "stdout",
     "output_type": "stream",
     "text": [
      "(12, 0.0298)\n"
     ]
    }
   ],
   "source": [
    "# Silhouette Score\n",
    "\n",
    "# Variables:\n",
    "# - best_score_fs1, best_score_fs2: Best silhouette scores for Feature Sets 1 (fs1) and 2 (fs2).\n",
    "# - best_k_fs1, best_k_fs2: Corresponding optimal values of k for best silhouette scores.\n",
    "\n",
    "best_score_fs1 = 0\n",
    "best_score_fs2 = 0\n",
    "silhouette_scores_fs1 = []\n",
    "silhouette_scores_fs2 = [] \n",
    "\n",
    "print(\"FS1\")\n",
    "\n",
    "for k in k_range:\n",
    "    kmeans_model_fs1 = KMeans(n_clusters=k, n_init=10, random_state=0)\n",
    "    kmeans_model_fs1.fit(fs1)\n",
    "    kmeans_labels_fs1 = kmeans_model_fs1.predict(fs1)\n",
    "    avg = silhouette_score(fs1, kmeans_labels_fs1, metric='euclidean')\n",
    "    \n",
    "    print((k, round(avg, 4)))\n",
    "    \n",
    "    silhouette_scores_fs1.append(avg)\n",
    "    \n",
    "    if avg > best_score_fs1:\n",
    "        best_k_fs1 = k\n",
    "        best_score_fs1 = avg\n",
    "\n",
    "print(\"\")\n",
    "print(\"FS2\")\n",
    "\n",
    "for k in k_range:\n",
    "    kmeans_model_fs2 = KMeans(n_clusters=k, n_init=10, random_state=0)\n",
    "    kmeans_model_fs2.fit(fs2)\n",
    "    kmeans_labels_fs2 = kmeans_model_fs2.predict(fs2)\n",
    "    avg = silhouette_score(fs2, kmeans_labels_fs2, metric='euclidean')\n",
    "    \n",
    "    print((k, round(avg, 4)))\n",
    "    \n",
    "    silhouette_scores_fs2.append(avg)\n",
    "    \n",
    "    if avg > best_score_fs2:\n",
    "        best_k_fs2 = k\n",
    "        best_score_fs2 = avg"
   ]
  },
  {
   "cell_type": "code",
   "execution_count": 27,
   "id": "9540fb5c",
   "metadata": {
    "scrolled": true
   },
   "outputs": [
    {
     "data": {
      "image/png": "[encoded data removed]",
      "text/plain": [
       "<Figure size 640x480 with 1 Axes>"
      ]
     },
     "metadata": {},
     "output_type": "display_data"
    },
    {
     "name": "stdout",
     "output_type": "stream",
     "text": [
      "Best value of k (FS1):  2\n",
      "Silhouette Score:  0.9643179959881285\n"
     ]
    },
    {
     "data": {
      "image/png": "[encoded data removed]",
      "text/plain": [
       "<Figure size 640x480 with 1 Axes>"
      ]
     },
     "metadata": {},
     "output_type": "display_data"
    },
    {
     "name": "stdout",
     "output_type": "stream",
     "text": [
      "Best value of k (FS2):  3\n",
      "Silhouette Score:  0.8944638406358233\n"
     ]
    }
   ],
   "source": [
    "# Visualize Silhouette Score trend\n",
    "\n",
    "# Plot Silhouette Scores for FS1\n",
    "plt.plot(k_range, silhouette_scores_fs1, marker='o', linestyle='-', color='b')\n",
    "plt.xlabel('Number of Clusters (k)')\n",
    "plt.ylabel('Silhouette Score')\n",
    "plt.title('Silhouette Score for Different k values (FS1)')\n",
    "plt.grid(True)\n",
    "plt.show()\n",
    "\n",
    "print(\"Best value of k (FS1): \", best_k_fs1)\n",
    "print(\"Silhouette Score: \", best_score_fs1)\n",
    "\n",
    "\n",
    "# Plot Silhouette Scores for FS2\n",
    "plt.plot(k_range, silhouette_scores_fs2, marker='o', linestyle='-', color='b')\n",
    "plt.xlabel('Number of Clusters (k)')\n",
    "plt.ylabel('Silhouette Score')\n",
    "plt.title('Silhouette Score for Different k values (FS2)')\n",
    "plt.grid(True)\n",
    "plt.show()\n",
    "\n",
    "print(\"Best value of k (FS2): \", best_k_fs2)\n",
    "print(\"Silhouette Score: \", best_score_fs2)"
   ]
  },
  {
   "cell_type": "code",
   "execution_count": 26,
   "id": "f9485f77",
   "metadata": {},
   "outputs": [
    {
     "data": {
      "image/png": "[encoded data removed]",
      "text/plain": [
       "<Figure size 640x480 with 1 Axes>"
      ]
     },
     "metadata": {},
     "output_type": "display_data"
    },
    {
     "name": "stdout",
     "output_type": "stream",
     "text": [
      "Best value of k (FS1):  2\n",
      "Silhouette Score:  0.9643179959881285\n"
     ]
    }
   ],
   "source": [
    "plt.plot(k_range, silhouette_scores_fs1, marker='o', linestyle='-', color='b')\n",
    "plt.xlabel('Number of Clusters (k)')\n",
    "plt.ylabel('Silhouette Score')\n",
    "plt.title('Silhouette Score for Different k values (FS1)')\n",
    "plt.grid(True)\n",
    "plt.show()\n",
    "\n",
    "print(\"Best value of k (FS1): \", best_k_fs1)\n",
    "print(\"Silhouette Score: \", best_score_fs1)"
   ]
  },
  {
   "cell_type": "code",
   "execution_count": 15,
   "id": "12dc8c98",
   "metadata": {},
   "outputs": [
    {
     "name": "stderr",
     "output_type": "stream",
     "text": [
      "C:\\Users\\Earl Felizardo\\AppData\\Roaming\\Python\\Python310\\site-packages\\sklearn\\cluster\\_kmeans.py:1440: UserWarning: KMeans is known to have a memory leak on Windows with MKL, when there are less chunks than available threads. You can avoid it by setting the environment variable OMP_NUM_THREADS=1.\n",
      "  warnings.warn(\n"
     ]
    },
    {
     "name": "stdout",
     "output_type": "stream",
     "text": [
      "k=2, Davies-Bouldin Index: 0.0131\n"
     ]
    },
    {
     "name": "stderr",
     "output_type": "stream",
     "text": [
      "C:\\Users\\Earl Felizardo\\AppData\\Roaming\\Python\\Python310\\site-packages\\sklearn\\cluster\\_kmeans.py:1440: UserWarning: KMeans is known to have a memory leak on Windows with MKL, when there are less chunks than available threads. You can avoid it by setting the environment variable OMP_NUM_THREADS=1.\n",
      "  warnings.warn(\n"
     ]
    },
    {
     "name": "stdout",
     "output_type": "stream",
     "text": [
      "k=3, Davies-Bouldin Index: 0.0471\n"
     ]
    },
    {
     "name": "stderr",
     "output_type": "stream",
     "text": [
      "C:\\Users\\Earl Felizardo\\AppData\\Roaming\\Python\\Python310\\site-packages\\sklearn\\cluster\\_kmeans.py:1440: UserWarning: KMeans is known to have a memory leak on Windows with MKL, when there are less chunks than available threads. You can avoid it by setting the environment variable OMP_NUM_THREADS=1.\n",
      "  warnings.warn(\n"
     ]
    },
    {
     "name": "stdout",
     "output_type": "stream",
     "text": [
      "k=4, Davies-Bouldin Index: 0.0811\n"
     ]
    },
    {
     "name": "stderr",
     "output_type": "stream",
     "text": [
      "C:\\Users\\Earl Felizardo\\AppData\\Roaming\\Python\\Python310\\site-packages\\sklearn\\cluster\\_kmeans.py:1440: UserWarning: KMeans is known to have a memory leak on Windows with MKL, when there are less chunks than available threads. You can avoid it by setting the environment variable OMP_NUM_THREADS=1.\n",
      "  warnings.warn(\n"
     ]
    },
    {
     "name": "stdout",
     "output_type": "stream",
     "text": [
      "k=5, Davies-Bouldin Index: 0.1066\n"
     ]
    },
    {
     "name": "stderr",
     "output_type": "stream",
     "text": [
      "C:\\Users\\Earl Felizardo\\AppData\\Roaming\\Python\\Python310\\site-packages\\sklearn\\cluster\\_kmeans.py:1440: UserWarning: KMeans is known to have a memory leak on Windows with MKL, when there are less chunks than available threads. You can avoid it by setting the environment variable OMP_NUM_THREADS=1.\n",
      "  warnings.warn(\n"
     ]
    },
    {
     "name": "stdout",
     "output_type": "stream",
     "text": [
      "k=6, Davies-Bouldin Index: 0.8418\n"
     ]
    },
    {
     "name": "stderr",
     "output_type": "stream",
     "text": [
      "C:\\Users\\Earl Felizardo\\AppData\\Roaming\\Python\\Python310\\site-packages\\sklearn\\cluster\\_kmeans.py:1440: UserWarning: KMeans is known to have a memory leak on Windows with MKL, when there are less chunks than available threads. You can avoid it by setting the environment variable OMP_NUM_THREADS=1.\n",
      "  warnings.warn(\n"
     ]
    },
    {
     "name": "stdout",
     "output_type": "stream",
     "text": [
      "k=7, Davies-Bouldin Index: 1.2702\n"
     ]
    },
    {
     "name": "stderr",
     "output_type": "stream",
     "text": [
      "C:\\Users\\Earl Felizardo\\AppData\\Roaming\\Python\\Python310\\site-packages\\sklearn\\cluster\\_kmeans.py:1440: UserWarning: KMeans is known to have a memory leak on Windows with MKL, when there are less chunks than available threads. You can avoid it by setting the environment variable OMP_NUM_THREADS=1.\n",
      "  warnings.warn(\n"
     ]
    },
    {
     "name": "stdout",
     "output_type": "stream",
     "text": [
      "k=8, Davies-Bouldin Index: 1.1488\n"
     ]
    },
    {
     "name": "stderr",
     "output_type": "stream",
     "text": [
      "C:\\Users\\Earl Felizardo\\AppData\\Roaming\\Python\\Python310\\site-packages\\sklearn\\cluster\\_kmeans.py:1440: UserWarning: KMeans is known to have a memory leak on Windows with MKL, when there are less chunks than available threads. You can avoid it by setting the environment variable OMP_NUM_THREADS=1.\n",
      "  warnings.warn(\n"
     ]
    },
    {
     "name": "stdout",
     "output_type": "stream",
     "text": [
      "k=9, Davies-Bouldin Index: 1.1865\n"
     ]
    },
    {
     "name": "stderr",
     "output_type": "stream",
     "text": [
      "C:\\Users\\Earl Felizardo\\AppData\\Roaming\\Python\\Python310\\site-packages\\sklearn\\cluster\\_kmeans.py:1440: UserWarning: KMeans is known to have a memory leak on Windows with MKL, when there are less chunks than available threads. You can avoid it by setting the environment variable OMP_NUM_THREADS=1.\n",
      "  warnings.warn(\n"
     ]
    },
    {
     "name": "stdout",
     "output_type": "stream",
     "text": [
      "k=10, Davies-Bouldin Index: 1.2304\n"
     ]
    },
    {
     "name": "stderr",
     "output_type": "stream",
     "text": [
      "C:\\Users\\Earl Felizardo\\AppData\\Roaming\\Python\\Python310\\site-packages\\sklearn\\cluster\\_kmeans.py:1440: UserWarning: KMeans is known to have a memory leak on Windows with MKL, when there are less chunks than available threads. You can avoid it by setting the environment variable OMP_NUM_THREADS=1.\n",
      "  warnings.warn(\n"
     ]
    },
    {
     "name": "stdout",
     "output_type": "stream",
     "text": [
      "k=11, Davies-Bouldin Index: 1.1784\n"
     ]
    },
    {
     "name": "stderr",
     "output_type": "stream",
     "text": [
      "C:\\Users\\Earl Felizardo\\AppData\\Roaming\\Python\\Python310\\site-packages\\sklearn\\cluster\\_kmeans.py:1440: UserWarning: KMeans is known to have a memory leak on Windows with MKL, when there are less chunks than available threads. You can avoid it by setting the environment variable OMP_NUM_THREADS=1.\n",
      "  warnings.warn(\n"
     ]
    },
    {
     "name": "stdout",
     "output_type": "stream",
     "text": [
      "k=12, Davies-Bouldin Index: 1.3579\n"
     ]
    },
    {
     "name": "stderr",
     "output_type": "stream",
     "text": [
      "C:\\Users\\Earl Felizardo\\AppData\\Roaming\\Python\\Python310\\site-packages\\sklearn\\cluster\\_kmeans.py:1440: UserWarning: KMeans is known to have a memory leak on Windows with MKL, when there are less chunks than available threads. You can avoid it by setting the environment variable OMP_NUM_THREADS=1.\n",
      "  warnings.warn(\n"
     ]
    },
    {
     "name": "stdout",
     "output_type": "stream",
     "text": [
      "k=2, Davies-Bouldin Index: 0.0646\n"
     ]
    },
    {
     "name": "stderr",
     "output_type": "stream",
     "text": [
      "C:\\Users\\Earl Felizardo\\AppData\\Roaming\\Python\\Python310\\site-packages\\sklearn\\cluster\\_kmeans.py:1440: UserWarning: KMeans is known to have a memory leak on Windows with MKL, when there are less chunks than available threads. You can avoid it by setting the environment variable OMP_NUM_THREADS=1.\n",
      "  warnings.warn(\n"
     ]
    },
    {
     "name": "stdout",
     "output_type": "stream",
     "text": [
      "k=3, Davies-Bouldin Index: 0.0504\n"
     ]
    },
    {
     "name": "stderr",
     "output_type": "stream",
     "text": [
      "C:\\Users\\Earl Felizardo\\AppData\\Roaming\\Python\\Python310\\site-packages\\sklearn\\cluster\\_kmeans.py:1440: UserWarning: KMeans is known to have a memory leak on Windows with MKL, when there are less chunks than available threads. You can avoid it by setting the environment variable OMP_NUM_THREADS=1.\n",
      "  warnings.warn(\n"
     ]
    },
    {
     "name": "stdout",
     "output_type": "stream",
     "text": [
      "k=4, Davies-Bouldin Index: 0.0935\n"
     ]
    },
    {
     "name": "stderr",
     "output_type": "stream",
     "text": [
      "C:\\Users\\Earl Felizardo\\AppData\\Roaming\\Python\\Python310\\site-packages\\sklearn\\cluster\\_kmeans.py:1440: UserWarning: KMeans is known to have a memory leak on Windows with MKL, when there are less chunks than available threads. You can avoid it by setting the environment variable OMP_NUM_THREADS=1.\n",
      "  warnings.warn(\n"
     ]
    },
    {
     "name": "stdout",
     "output_type": "stream",
     "text": [
      "k=5, Davies-Bouldin Index: 1.0033\n"
     ]
    },
    {
     "name": "stderr",
     "output_type": "stream",
     "text": [
      "C:\\Users\\Earl Felizardo\\AppData\\Roaming\\Python\\Python310\\site-packages\\sklearn\\cluster\\_kmeans.py:1440: UserWarning: KMeans is known to have a memory leak on Windows with MKL, when there are less chunks than available threads. You can avoid it by setting the environment variable OMP_NUM_THREADS=1.\n",
      "  warnings.warn(\n"
     ]
    },
    {
     "name": "stdout",
     "output_type": "stream",
     "text": [
      "k=6, Davies-Bouldin Index: 1.223\n"
     ]
    },
    {
     "name": "stderr",
     "output_type": "stream",
     "text": [
      "C:\\Users\\Earl Felizardo\\AppData\\Roaming\\Python\\Python310\\site-packages\\sklearn\\cluster\\_kmeans.py:1440: UserWarning: KMeans is known to have a memory leak on Windows with MKL, when there are less chunks than available threads. You can avoid it by setting the environment variable OMP_NUM_THREADS=1.\n",
      "  warnings.warn(\n"
     ]
    },
    {
     "name": "stdout",
     "output_type": "stream",
     "text": [
      "k=7, Davies-Bouldin Index: 1.2671\n"
     ]
    },
    {
     "name": "stderr",
     "output_type": "stream",
     "text": [
      "C:\\Users\\Earl Felizardo\\AppData\\Roaming\\Python\\Python310\\site-packages\\sklearn\\cluster\\_kmeans.py:1440: UserWarning: KMeans is known to have a memory leak on Windows with MKL, when there are less chunks than available threads. You can avoid it by setting the environment variable OMP_NUM_THREADS=1.\n",
      "  warnings.warn(\n"
     ]
    },
    {
     "name": "stdout",
     "output_type": "stream",
     "text": [
      "k=8, Davies-Bouldin Index: 1.1396\n"
     ]
    },
    {
     "name": "stderr",
     "output_type": "stream",
     "text": [
      "C:\\Users\\Earl Felizardo\\AppData\\Roaming\\Python\\Python310\\site-packages\\sklearn\\cluster\\_kmeans.py:1440: UserWarning: KMeans is known to have a memory leak on Windows with MKL, when there are less chunks than available threads. You can avoid it by setting the environment variable OMP_NUM_THREADS=1.\n",
      "  warnings.warn(\n"
     ]
    },
    {
     "name": "stdout",
     "output_type": "stream",
     "text": [
      "k=9, Davies-Bouldin Index: 1.1226\n"
     ]
    },
    {
     "name": "stderr",
     "output_type": "stream",
     "text": [
      "C:\\Users\\Earl Felizardo\\AppData\\Roaming\\Python\\Python310\\site-packages\\sklearn\\cluster\\_kmeans.py:1440: UserWarning: KMeans is known to have a memory leak on Windows with MKL, when there are less chunks than available threads. You can avoid it by setting the environment variable OMP_NUM_THREADS=1.\n",
      "  warnings.warn(\n"
     ]
    },
    {
     "name": "stdout",
     "output_type": "stream",
     "text": [
      "k=10, Davies-Bouldin Index: 1.3961\n"
     ]
    },
    {
     "name": "stderr",
     "output_type": "stream",
     "text": [
      "C:\\Users\\Earl Felizardo\\AppData\\Roaming\\Python\\Python310\\site-packages\\sklearn\\cluster\\_kmeans.py:1440: UserWarning: KMeans is known to have a memory leak on Windows with MKL, when there are less chunks than available threads. You can avoid it by setting the environment variable OMP_NUM_THREADS=1.\n",
      "  warnings.warn(\n"
     ]
    },
    {
     "name": "stdout",
     "output_type": "stream",
     "text": [
      "k=11, Davies-Bouldin Index: 1.514\n"
     ]
    },
    {
     "name": "stderr",
     "output_type": "stream",
     "text": [
      "C:\\Users\\Earl Felizardo\\AppData\\Roaming\\Python\\Python310\\site-packages\\sklearn\\cluster\\_kmeans.py:1440: UserWarning: KMeans is known to have a memory leak on Windows with MKL, when there are less chunks than available threads. You can avoid it by setting the environment variable OMP_NUM_THREADS=1.\n",
      "  warnings.warn(\n"
     ]
    },
    {
     "name": "stdout",
     "output_type": "stream",
     "text": [
      "k=12, Davies-Bouldin Index: 1.1617\n"
     ]
    }
   ],
   "source": [
    "# Davies-Bouldin Index\n",
    "\n",
    "# Variables: \n",
    "# - best_epsilon_davies_bouldin_fs1: Epsilon value that gives the best Davies-Bouldin Index for Feature Set 1 (fs1).\n",
    "# - best_score_davies_bouldin_fs1: Best Davies-Bouldin Index for Feature Set 1 (fs1).\n",
    "# - davies_bouldin_scores_fs1: List containing Davies-Bouldin Index scores for different epsilon values in Feature Set 1 (fs1).\n",
    "# - best_epsilon_davies_bouldin_fs2: Epsilon value that gives the best Davies-Bouldin Index for Feature Set 2 (fs2).\n",
    "# - best_score_davies_bouldin_fs2: Best Davies-Bouldin Index for Feature Set 2 (fs2).\n",
    "# - davies_bouldin_scores_fs2: List containing Davies-Bouldin Index scores for different epsilon values in Feature Set 2 (fs2).\n",
    "\n",
    "def davies_bouldin_index(data, labels):\n",
    "    \"\"\"\n",
    "    Compute the Davies-Bouldin Index for a clustering.\n",
    "\n",
    "    Parameters:\n",
    "    - data: Data points.\n",
    "    - labels: Cluster labels for each data point.\n",
    "\n",
    "    Returns:\n",
    "    - Davies-Bouldin Index.\n",
    "    \"\"\"  \n",
    "    unique_labels = np.unique(labels)\n",
    "    num_clusters = len(unique_labels)\n",
    "    \n",
    "    if num_clusters == 1:\n",
    "        return 0  # DB index is not defined for a single cluster\n",
    "    \n",
    "    cluster_centers = [np.mean(data[labels == i], axis=0) for i in unique_labels]\n",
    "    cluster_distances = pairwise_distances(cluster_centers)\n",
    "    avg_within_cluster_distances = []\n",
    "\n",
    "    for i in unique_labels:\n",
    "        within_cluster_distances = pairwise_distances(data[labels == i], [cluster_centers[i]])\n",
    "        avg_within_cluster_distances.append(np.mean(within_cluster_distances))\n",
    "\n",
    "    db_index = 0.0\n",
    "    for i in unique_labels:\n",
    "        max_dbi = 0.0\n",
    "        for j in unique_labels:\n",
    "            if i != j:\n",
    "                dbi = (avg_within_cluster_distances[i] + avg_within_cluster_distances[j]) / cluster_distances[i, j]\n",
    "                if dbi > max_dbi:\n",
    "                    max_dbi = dbi\n",
    "        db_index += max_dbi\n",
    "\n",
    "    return db_index / num_clusters\n",
    "\n",
    "\n",
    "# FS1\n",
    "best_k_davies_bouldin_fs1 = None\n",
    "best_score_davies_bouldin_fs1 = float('inf')\n",
    "davies_bouldin_scores_fs1 = []\n",
    "\n",
    "for k in k_range:\n",
    "    kmeans_model = KMeans(n_clusters=k, n_init=10, random_state=0)\n",
    "    kmeans_model.fit(fs1)\n",
    "    kmeans_labels = kmeans_model.predict(fs1)\n",
    "    \n",
    "    # Davies-Bouldin Index\n",
    "    db_index_fs1 = davies_bouldin_index(fs1, kmeans_labels)\n",
    "    davies_bouldin_scores_fs1.append(db_index_fs1)\n",
    "    print(f'k={k}, Davies-Bouldin Index: {round(db_index_fs1, 4)}')\n",
    "    \n",
    "    if db_index_fs1 < best_score_davies_bouldin_fs1:\n",
    "        best_k_davies_bouldin_fs1 = k\n",
    "        best_score_davies_bouldin_fs1 = db_index_fs1\n",
    "        \n",
    "# FS2\n",
    "best_k_davies_bouldin_fs2 = None\n",
    "best_score_davies_bouldin_fs2 = float('inf')\n",
    "davies_bouldin_scores_fs2 = []\n",
    "\n",
    "for k in k_range:\n",
    "    kmeans_model = KMeans(n_clusters=k, n_init=10, random_state=0)\n",
    "    kmeans_model.fit(fs2)\n",
    "    kmeans_labels = kmeans_model.predict(fs2)\n",
    "    \n",
    "    # Davies-Bouldin Index\n",
    "    db_index_fs2 = davies_bouldin_index(fs2, kmeans_labels)\n",
    "    davies_bouldin_scores_fs2.append(db_index_fs2)\n",
    "    print(f'k={k}, Davies-Bouldin Index: {round(db_index_fs2, 4)}')\n",
    "    \n",
    "    if db_index_fs2 < best_score_davies_bouldin_fs2:\n",
    "        best_k_davies_bouldin_fs2 = k\n",
    "        best_score_davies_bouldin_fs2 = db_index_fs2"
   ]
  },
  {
   "cell_type": "code",
   "execution_count": 16,
   "id": "f4192318",
   "metadata": {},
   "outputs": [],
   "source": [
    "# CLUSTERING"
   ]
  },
  {
   "cell_type": "code",
   "execution_count": 17,
   "id": "ed6e4ca3",
   "metadata": {
    "scrolled": false
   },
   "outputs": [
    {
     "name": "stderr",
     "output_type": "stream",
     "text": [
      "C:\\Users\\Earl Felizardo\\AppData\\Roaming\\Python\\Python310\\site-packages\\sklearn\\cluster\\_kmeans.py:1416: FutureWarning: The default value of `n_init` will change from 10 to 'auto' in 1.4. Set the value of `n_init` explicitly to suppress the warning\n",
      "  super()._check_params_vs_input(X, default_n_init=10)\n",
      "C:\\Users\\Earl Felizardo\\AppData\\Roaming\\Python\\Python310\\site-packages\\sklearn\\cluster\\_kmeans.py:1440: UserWarning: KMeans is known to have a memory leak on Windows with MKL, when there are less chunks than available threads. You can avoid it by setting the environment variable OMP_NUM_THREADS=1.\n",
      "  warnings.warn(\n",
      "C:\\Users\\Earl Felizardo\\AppData\\Roaming\\Python\\Python310\\site-packages\\sklearn\\cluster\\_kmeans.py:1416: FutureWarning: The default value of `n_init` will change from 10 to 'auto' in 1.4. Set the value of `n_init` explicitly to suppress the warning\n",
      "  super()._check_params_vs_input(X, default_n_init=10)\n",
      "C:\\Users\\Earl Felizardo\\AppData\\Roaming\\Python\\Python310\\site-packages\\sklearn\\cluster\\_kmeans.py:1440: UserWarning: KMeans is known to have a memory leak on Windows with MKL, when there are less chunks than available threads. You can avoid it by setting the environment variable OMP_NUM_THREADS=1.\n",
      "  warnings.warn(\n",
      "C:\\Users\\Earl Felizardo\\AppData\\Roaming\\Python\\Python310\\site-packages\\sklearn\\cluster\\_kmeans.py:1416: FutureWarning: The default value of `n_init` will change from 10 to 'auto' in 1.4. Set the value of `n_init` explicitly to suppress the warning\n",
      "  super()._check_params_vs_input(X, default_n_init=10)\n",
      "C:\\Users\\Earl Felizardo\\AppData\\Roaming\\Python\\Python310\\site-packages\\sklearn\\cluster\\_kmeans.py:1440: UserWarning: KMeans is known to have a memory leak on Windows with MKL, when there are less chunks than available threads. You can avoid it by setting the environment variable OMP_NUM_THREADS=1.\n",
      "  warnings.warn(\n",
      "C:\\Users\\Earl Felizardo\\AppData\\Roaming\\Python\\Python310\\site-packages\\sklearn\\cluster\\_kmeans.py:1416: FutureWarning: The default value of `n_init` will change from 10 to 'auto' in 1.4. Set the value of `n_init` explicitly to suppress the warning\n",
      "  super()._check_params_vs_input(X, default_n_init=10)\n",
      "C:\\Users\\Earl Felizardo\\AppData\\Roaming\\Python\\Python310\\site-packages\\sklearn\\cluster\\_kmeans.py:1440: UserWarning: KMeans is known to have a memory leak on Windows with MKL, when there are less chunks than available threads. You can avoid it by setting the environment variable OMP_NUM_THREADS=1.\n",
      "  warnings.warn(\n"
     ]
    }
   ],
   "source": [
    "# Train Kmeans model with best k\n",
    "\n",
    "# Variables:\n",
    "# - silhouette_best_kmeans_model_fs1, silhouette_best_kmeans_model_fs2: KMeans models using the best k from Silhouette Score.\n",
    "# - elbow_best_kmeans_model_fs1, elbow_best_kmeans_model_fs2: KMeans models using the best k from Elbow Method.\n",
    "# - silhouette_best_kmeans_labels_fs1, silhouette_best_kmeans_labels_fs2: Cluster labels for data in fs1 and fs2 using Silhouette Score best k.\n",
    "# - elbow_best_kmeans_labels_fs1, elbow_best_kmeans_labels_fs2: Cluster labels for data in fs1 and fs2 using Elbow Method best k.\n",
    "\n",
    "\n",
    "# Best k from Silhouette Score\n",
    "\n",
    "silhouette_best_kmeans_model_fs1 = KMeans(n_clusters=best_k_fs1, random_state=0)\n",
    "silhouette_best_kmeans_model_fs1.fit(fs1)\n",
    "silhouette_best_kmeans_labels_fs1 = silhouette_best_kmeans_model_fs1.predict(fs1)\n",
    "\n",
    "silhouette_best_kmeans_model_fs2 = KMeans(n_clusters=best_k_fs2, random_state=0)\n",
    "silhouette_best_kmeans_model_fs2.fit(fs2)\n",
    "silhouette_best_kmeans_labels_fs2 = silhouette_best_kmeans_model_fs2.predict(fs2)\n",
    "\n",
    "\n",
    "# Best k from Elbow Method\n",
    "\n",
    "elbow_best_kmeans_model_fs1 = KMeans(n_clusters=4, random_state=0)\n",
    "elbow_best_kmeans_model_fs1.fit(fs1)\n",
    "elbow_best_kmeans_labels_fs1 = elbow_best_kmeans_model_fs1.predict(fs1)\n",
    "\n",
    "elbow_best_kmeans_model_fs2 = KMeans(n_clusters=6, random_state=0)\n",
    "elbow_best_kmeans_model_fs2.fit(fs2)\n",
    "elbow_best_kmeans_labels_fs2 = elbow_best_kmeans_model_fs2.predict(fs2)"
   ]
  },
  {
   "cell_type": "code",
   "execution_count": 18,
   "id": "26d012d3",
   "metadata": {},
   "outputs": [
    {
     "data": {
      "image/png": "[encoded data removed]",
      "text/plain": [
       "<Figure size 640x480 with 1 Axes>"
      ]
     },
     "metadata": {},
     "output_type": "display_data"
    },
    {
     "name": "stdout",
     "output_type": "stream",
     "text": [
      "Best K value (FS1): 2\n",
      "Davies-Bouldin Index: 0.01305824333329661\n"
     ]
    },
    {
     "data": {
      "image/png": "[encoded data removed]",
      "text/plain": [
       "<Figure size 640x480 with 1 Axes>"
      ]
     },
     "metadata": {},
     "output_type": "display_data"
    },
    {
     "name": "stdout",
     "output_type": "stream",
     "text": [
      "Best K value (FS2): 3\n",
      "Davies-Bouldin Index: 0.050424042825300275\n"
     ]
    }
   ],
   "source": [
    "# Visualize Davies-Bouldin Index trend\n",
    "\n",
    "# Plot Davies-Bouldin Index for FS1\n",
    "plt.plot(k_range, davies_bouldin_scores_fs1, marker='o', linestyle='-', color='r')\n",
    "plt.xlabel('K')\n",
    "plt.ylabel('Davies-Bouldin Index')\n",
    "plt.title('Davies-Bouldin Index for Different K Values (FS1)')\n",
    "plt.grid(True)\n",
    "plt.show()\n",
    "\n",
    "print(\"Best K value (FS1):\", best_k_davies_bouldin_fs1)\n",
    "print(\"Davies-Bouldin Index:\", best_score_davies_bouldin_fs1)\n",
    "\n",
    "\n",
    "# Plot Davies-Bouldin Index for FS2\n",
    "plt.plot(k_range, davies_bouldin_scores_fs2, marker='o', linestyle='-', color='r')\n",
    "plt.xlabel('K')\n",
    "plt.ylabel('Davies-Bouldin Index')\n",
    "plt.title('Davies-Bouldin Index for Different K Values (FS2)')\n",
    "plt.grid(True)\n",
    "plt.show()\n",
    "\n",
    "print(\"Best K value (FS2):\", best_k_davies_bouldin_fs2)\n",
    "print(\"Davies-Bouldin Index:\", best_score_davies_bouldin_fs2)"
   ]
  },
  {
   "cell_type": "code",
   "execution_count": 19,
   "id": "01a84da4",
   "metadata": {},
   "outputs": [],
   "source": [
    "# VISUALIZATION"
   ]
  },
  {
   "cell_type": "code",
   "execution_count": 20,
   "id": "ad77617c",
   "metadata": {},
   "outputs": [],
   "source": [
    "# Add cluster labels to dataset\n",
    "\n",
    "# Variables:\n",
    "# - silhouette_cluster_labels_fs1: Cluster labels for fs1 based on silhouette_best_kmeans_labels_fs1.\n",
    "# - silhouette_clustered_dataset_fs1: Copy of fs1 with an additional 'Cluster Labels' column.\n",
    "# - silhouette_cluster_labels_fs2: Cluster labels for fs2 based on silhouette_best_kmeans_labels_fs2.\n",
    "# - silhouette_clustered_dataset_fs2: Copy of fs2 with an additional 'Cluster Labels' column.\n",
    "# - elbow_cluster_labels_fs1: Cluster labels for fs1 based on elbow_best_kmeans_labels_fs1.\n",
    "# - elbow_clustered_dataset_fs1: Copy of fs1 with an additional 'Cluster Labels' column.\n",
    "# - elbow_cluster_labels_fs2: Cluster labels for fs2 based on elbow_best_kmeans_labels_fs2.\n",
    "# - elbow_clustered_dataset_fs2: Copy of fs2 with an additional 'Cluster Labels' column.\n",
    "\n",
    "silhouette_cluster_labels_fs1 = silhouette_best_kmeans_labels_fs1\n",
    "silhouette_clustered_dataset_fs1 = fs1.copy()\n",
    "silhouette_clustered_dataset_fs1['Cluster Labels'] = silhouette_cluster_labels_fs1\n",
    "\n",
    "silhouette_cluster_labels_fs2 = silhouette_best_kmeans_labels_fs2\n",
    "silhouette_clustered_dataset_fs2 = fs2.copy()\n",
    "silhouette_clustered_dataset_fs2['Cluster Labels'] = silhouette_cluster_labels_fs2\n",
    "\n",
    "elbow_cluster_labels_fs1 = elbow_best_kmeans_labels_fs1\n",
    "elbow_clustered_dataset_fs1 = fs1.copy()\n",
    "elbow_clustered_dataset_fs1['Cluster Labels'] = elbow_cluster_labels_fs1\n",
    "\n",
    "elbow_cluster_labels_fs2 = elbow_best_kmeans_labels_fs2\n",
    "elbow_clustered_dataset_fs2 = fs2.copy()\n",
    "elbow_clustered_dataset_fs2['Cluster Labels'] = elbow_cluster_labels_fs2"
   ]
  },
  {
   "cell_type": "code",
   "execution_count": 21,
   "id": "4606fa49",
   "metadata": {},
   "outputs": [],
   "source": [
    "# Add track file column back\n",
    "\n",
    "silhouette_clustered_dataset_fs1['Track file'] = queen_dataset_full.iloc[:, 0]\n",
    "silhouette_clustered_dataset_fs2['Track file'] = queen_dataset_full.iloc[:, 0]\n",
    "\n",
    "elbow_clustered_dataset_fs1['Track file'] = queen_dataset_full.iloc[:, 0]\n",
    "elbow_clustered_dataset_fs2['Track file'] = queen_dataset_full.iloc[:, 0]"
   ]
  },
  {
   "cell_type": "code",
   "execution_count": 22,
   "id": "564dc775",
   "metadata": {},
   "outputs": [],
   "source": [
    "# Convert dataframe to csv\n",
    "\n",
    "# silhouette_clustered_dataset_fs1.to_csv('KMeans_fs1_silhouette.csv', index=False)\n",
    "# silhouette_clustered_dataset_fs2.to_csv('KMeans_fs2_silhouette.csv', index=False)\n",
    "\n",
    "# elbow_clustered_dataset_fs1.to_csv('KMeans_fs1_elbow.csv', index=False)\n",
    "# elbow_clustered_dataset_fs2.to_csv('KMeans_fs2_elbow.csv', index=False)"
   ]
  },
  {
   "cell_type": "code",
   "execution_count": null,
   "id": "5d4809c5",
   "metadata": {},
   "outputs": [],
   "source": []
  }
 ],
 "metadata": {
  "kernelspec": {
   "display_name": "Python 3 (ipykernel)",
   "language": "python",
   "name": "python3"
  },
  "language_info": {
   "codemirror_mode": {
    "name": "ipython",
    "version": 3
   },
   "file_extension": ".py",
   "mimetype": "text/x-python",
   "name": "python",
   "nbconvert_exporter": "python",
   "pygments_lexer": "ipython3",
   "version": "3.10.9"
  }
 },
 "nbformat": 4,
 "nbformat_minor": 5
}
